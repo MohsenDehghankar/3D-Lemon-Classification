{
  "cells": [
    {
      "cell_type": "code",
      "execution_count": 1,
      "metadata": {
        "colab": {
          "base_uri": "https://localhost:8080/"
        },
        "id": "gn5PKOPbu9QE",
        "outputId": "964837c1-bb6f-40be-f122-1fd115c9bc7a"
      },
      "outputs": [
        {
          "output_type": "stream",
          "name": "stdout",
          "text": [
            "Looking in indexes: https://pypi.org/simple, https://us-python.pkg.dev/colab-wheels/public/simple/\n",
            "Collecting torchmetrics\n",
            "  Downloading torchmetrics-0.9.3-py3-none-any.whl (419 kB)\n",
            "\u001b[K     |████████████████████████████████| 419 kB 33.1 MB/s \n",
            "\u001b[?25hRequirement already satisfied: numpy>=1.17.2 in /usr/local/lib/python3.7/dist-packages (from torchmetrics) (1.21.6)\n",
            "Requirement already satisfied: packaging in /usr/local/lib/python3.7/dist-packages (from torchmetrics) (21.3)\n",
            "Requirement already satisfied: typing-extensions in /usr/local/lib/python3.7/dist-packages (from torchmetrics) (4.1.1)\n",
            "Requirement already satisfied: torch>=1.3.1 in /usr/local/lib/python3.7/dist-packages (from torchmetrics) (1.12.1+cu113)\n",
            "Requirement already satisfied: pyparsing!=3.0.5,>=2.0.2 in /usr/local/lib/python3.7/dist-packages (from packaging->torchmetrics) (3.0.9)\n",
            "Installing collected packages: torchmetrics\n",
            "Successfully installed torchmetrics-0.9.3\n",
            "Cloning into '3D-CNN-PyTorch'...\n",
            "remote: Enumerating objects: 81, done.\u001b[K\n",
            "remote: Counting objects: 100% (81/81), done.\u001b[K\n",
            "remote: Compressing objects: 100% (60/60), done.\u001b[K\n",
            "remote: Total 81 (delta 24), reused 77 (delta 20), pack-reused 0\u001b[K\n",
            "Unpacking objects: 100% (81/81), done.\n",
            "3D-CNN-PyTorch\tsample_data\n"
          ]
        }
      ],
      "source": [
        "!pip install torchmetrics\n",
        "!rm -rf ./3D-CNN-PyTorch/\n",
        "!git clone -b improve/add-test-notebook https://github.com/MohsenDehghankar/3D-CNN-PyTorch.git\n",
        "!ls"
      ]
    },
    {
      "cell_type": "code",
      "execution_count": 2,
      "metadata": {
        "id": "L0Z6uhcDvHvg"
      },
      "outputs": [],
      "source": [
        "import os\n",
        "import sys\n",
        "\n",
        "sys.path.insert(0, os.path.abspath('./3D-CNN-PyTorch')) # this allows local imports"
      ]
    },
    {
      "cell_type": "code",
      "execution_count": 3,
      "metadata": {
        "id": "_Vks2vXonH1s"
      },
      "outputs": [],
      "source": [
        "# Local imports\n",
        "from models import ResNetV2\n",
        "from models import resnet\n",
        "from models import DenseNet\n",
        "from models import ResNeXt\n",
        "from models import ResNeXtV2\n",
        "from models import PreActResNet\n",
        "from models import WideResNet\n",
        "from models import SqueezeNet\n",
        "from models import ShuffleNet\n",
        "from models import ShuffleNetV2\n",
        "from models import MobileNet\n",
        "from models import MobileNetV2\n",
        "from models.EfficientNet import EfficientNet3D"
      ]
    },
    {
      "cell_type": "code",
      "execution_count": 4,
      "metadata": {
        "colab": {
          "base_uri": "https://localhost:8080/"
        },
        "id": "NeCgT1PyR8T3",
        "outputId": "fdb545e5-710a-4a7a-8adc-7cb5b891697e"
      },
      "outputs": [
        {
          "output_type": "stream",
          "name": "stdout",
          "text": [
            "1.12.1+cu113\n"
          ]
        }
      ],
      "source": [
        "# Package imports\n",
        "import torch\n",
        "import torch.nn as nn\n",
        "import torch.nn.functional as F\n",
        "import torch.optim as optim\n",
        "import re\n",
        "import matplotlib.pyplot as plt\n",
        "import os\n",
        "import pandas as pd\n",
        "from torchvision import transforms\n",
        "from torch.optim.lr_scheduler import *\n",
        "from torchvision.io import read_image\n",
        "from torch.utils.data import Dataset\n",
        "from sklearn.utils import shuffle\n",
        "from sklearn.model_selection import train_test_split\n",
        "from distutils.dir_util import copy_tree\n",
        "from datetime import datetime\n",
        "from torchsummary import summary\n",
        "from torchmetrics import ConfusionMatrix\n",
        "\n",
        "print(torch.__version__) "
      ]
    },
    {
      "cell_type": "code",
      "execution_count": 5,
      "metadata": {
        "colab": {
          "base_uri": "https://localhost:8080/"
        },
        "id": "BveRFivbtDzT",
        "outputId": "b9c392dc-30a7-4ab0-ee17-547c235a2e5f"
      },
      "outputs": [
        {
          "output_type": "stream",
          "name": "stdout",
          "text": [
            "Mounted at /content/drive\n"
          ]
        }
      ],
      "source": [
        "from google.colab import drive\n",
        "drive.mount('/content/drive', force_remount=True)"
      ]
    },
    {
      "cell_type": "markdown",
      "metadata": {
        "id": "cglx7knb00-N"
      },
      "source": [
        "# Config"
      ]
    },
    {
      "cell_type": "code",
      "execution_count": 6,
      "metadata": {
        "id": "X2I9zT0EUz-0"
      },
      "outputs": [],
      "source": [
        "# Config\n",
        "\n",
        "# Metadata Configs\n",
        "DATA_DIR = \"/content/drive/MyDrive/lemon-crop\"\n",
        "VAL_DATA_DIR = \"/content/drive/MyDrive/lemon-crop/validation\"\n",
        "TRAIN_DATA_DIR = \"/content/drive/MyDrive/lemon-crop/train\"\n",
        "TEST_DATA_DIR = \"/content/drive/MyDrive/lemon-crop/test\"\n",
        "IMAGE_FILE_NAME_REGEX = \"(\\d+)\\w(\\d+).\\w+(result\\.jpg)\"\n",
        "PREPROCESS_INPUT_IMAGE_SIZE = (160, 120)\n",
        "TRAIN_TEST_COEF = 0.7\n",
        "\n",
        "# Main Configs\n",
        "LR = 0.1\n",
        "GAMMA = 0.9\n",
        "BATCH_SIZE = 4\n",
        "TEST_BATCH_SIZE = 4\n",
        "ITERS_TO_ACCUMULATE = 2 # if USE_AMP=True\n",
        "EPOCHS = 300\n",
        "TRAIN_INPUT_IMAGE_SIZE = (120, 120)\n",
        "NEEDS_RESIZE = False\n",
        "CLASS_NUM = 3\n",
        "\n",
        "# Augmentation\n",
        "TEST_SET_AUGMENTATION_COEF = 2\n",
        "\n",
        "# Save model\n",
        "SAVE_CHECKPOINTS = True\n",
        "CHECKPOINTS_DIR = \"/content/drive/MyDrive/lemon-crop/model_checkpoints\"\n",
        "MIN_ACC_TO_SAVE = 90\n",
        "\n",
        "# Other\n",
        "USE_CUDA = True\n",
        "DRY_RUN = False\n",
        "LOG_INTERVAL = 8 # should be multiply of ITERS_TO_ACCUMULATE\n",
        "USE_AMP = True ## Memory Boost ##\n",
        "ADD_CHANNEL_TO_INPUT = True # if true, adds a channel dimenstion to data in test() and train() [False for LSTM]"
      ]
    },
    {
      "cell_type": "markdown",
      "metadata": {
        "id": "n7NKb4oZYtGA"
      },
      "source": [
        "# Data Preparation\n"
      ]
    },
    {
      "cell_type": "markdown",
      "metadata": {
        "id": "1UZXHjc3soaG"
      },
      "source": [
        "## Load Metadata\n"
      ]
    },
    {
      "cell_type": "code",
      "execution_count": 7,
      "metadata": {
        "id": "lblIu4GPsoaG"
      },
      "outputs": [],
      "source": [
        "labels_map = {\n",
        "    0: \"Salem\",\n",
        "    1: \"Bruised-8\",\n",
        "    2: \"Bruised-24\",\n",
        "}\n",
        "metadata_dir = \"./drive/MyDrive/lemon-crop/metadata\"\n",
        "dir_map = {\n",
        "    0: \"salem\",\n",
        "    1: os.path.join(\"Bruised\", \"8\"),\n",
        "    2: os.path.join(\"Bruised\", \"24\"),\n",
        "}\n",
        "dir_map_secondary = {\n",
        "    0: \"salem\",\n",
        "    1: \"8\",\n",
        "    2: \"24\",\n",
        "}"
      ]
    },
    {
      "cell_type": "code",
      "execution_count": 8,
      "metadata": {
        "id": "7zcue59JsoaH",
        "colab": {
          "base_uri": "https://localhost:8080/"
        },
        "outputId": "0dcde3df-7230-409b-d0a6-67c9fe37e3f3"
      },
      "outputs": [
        {
          "output_type": "stream",
          "name": "stdout",
          "text": [
            "145 42 28 208\n"
          ]
        }
      ],
      "source": [
        "# load metadata\n",
        "\n",
        "train_metadata = pd.read_csv(os.path.join(metadata_dir, \"train_metadata-2.csv\"), header=[0]).iloc[: , 1:]\n",
        "test_metadata = pd.read_csv(os.path.join(metadata_dir, \"test_metadata-2.csv\"), header=[0]).iloc[: , 1:]\n",
        "val_metadata = pd.read_csv(os.path.join(metadata_dir, \"val_metadata.csv\"), header=[0]).iloc[: , 1:]\n",
        "labels_metadata = pd.read_csv(os.path.join(metadata_dir, \"labels_metadata-2.csv\"), header=[0]).iloc[: , 1:]\n",
        "print(len(train_metadata), len(test_metadata), len(val_metadata), len(labels_metadata))"
      ]
    },
    {
      "cell_type": "markdown",
      "metadata": {
        "id": "-3cP8D3tbddp"
      },
      "source": [
        "## Define Dataset\n"
      ]
    },
    {
      "cell_type": "code",
      "execution_count": 9,
      "metadata": {
        "id": "jiPfU3HRbgm4"
      },
      "outputs": [],
      "source": [
        "# Create Dataset Class\n",
        "\n",
        "\n",
        "class LemonDataset(Dataset):\n",
        "    def __init__(\n",
        "        self,\n",
        "        annotations_file,\n",
        "        pure_img_dir,\n",
        "        processed_img_dir,\n",
        "        preprocess_transform=None,\n",
        "        target_transform=None,\n",
        "        preprocess=False,\n",
        "        transform=None\n",
        "    ):\n",
        "        self.img_labels = annotations_file\n",
        "        self.pure_img_dir = pure_img_dir\n",
        "        self.processed_img_dir = processed_img_dir\n",
        "        self.preprocess_transform = preprocess_transform\n",
        "        self.transform = transform\n",
        "        self.target_transform = target_transform\n",
        "        self.preprocess = preprocess\n",
        "\n",
        "    def __len__(self):\n",
        "        return len(self.img_labels)\n",
        "\n",
        "    def __getitem__(self, idx):\n",
        "        row = self.img_labels.iloc[idx]\n",
        "\n",
        "        # Get image\n",
        "        if self.preprocess:\n",
        "            image = self.preprocess_and_save(row)\n",
        "        else:\n",
        "            img_path = self.get_path(row, True)\n",
        "            image = torch.load(img_path)\n",
        "            if self.transform:\n",
        "                image = self.transform(image)\n",
        "\n",
        "        # Label\n",
        "        label = int(self.img_labels.iloc[idx, 1])\n",
        "        if self.target_transform:\n",
        "            label = self.target_transform(label)\n",
        "\n",
        "        return image, label\n",
        "\n",
        "    def preprocess_and_save(self, row):\n",
        "        img_path = self.get_path(row, False)\n",
        "\n",
        "        # Read and stack image layers\n",
        "        image_layers = []\n",
        "        for file in os.listdir(img_path):\n",
        "            match = re.search(IMAGE_FILE_NAME_REGEX, file)\n",
        "            if match:\n",
        "                image_layer = read_image(os.path.join(img_path, file))\n",
        "                # Transform\n",
        "                if self.preprocess_transform:\n",
        "                    image_layer = self.preprocess_transform(image_layer)\n",
        "                image_layers.append(image_layer[0])\n",
        "\n",
        "        # Stack\n",
        "        image = torch.stack(image_layers, dim=0)\n",
        "\n",
        "        # Save\n",
        "        torch.save(\n",
        "            image,\n",
        "            self.get_path(row, True),\n",
        "        )\n",
        "\n",
        "        return image\n",
        "\n",
        "    def get_path(self, row, preprocessed):\n",
        "        post_fix = \".pt\" if preprocessed else \"\"\n",
        "        return os.path.join(\n",
        "            self.processed_img_dir if preprocessed else self.pure_img_dir,\n",
        "            dir_map[int(row[-1])],\n",
        "            row[0] + post_fix,\n",
        "        )\n"
      ]
    },
    {
      "cell_type": "markdown",
      "metadata": {
        "id": "Y_jFsi3msoaM"
      },
      "source": [
        "## Transforms\n"
      ]
    },
    {
      "cell_type": "code",
      "execution_count": 10,
      "metadata": {
        "id": "sxIFvhfCsoaM"
      },
      "outputs": [],
      "source": [
        "preprocess_transform = transforms.Compose(\n",
        "    [\n",
        "        transforms.Resize(PREPROCESS_INPUT_IMAGE_SIZE),\n",
        "    ]\n",
        ")\n",
        "\n",
        "train_transforms = transforms.Compose([\n",
        "    transforms.RandomHorizontalFlip(),\n",
        "    transforms.ColorJitter()\n",
        "])\n",
        "\n",
        "test_transforms = transforms.Compose([\n",
        "    transforms.RandomHorizontalFlip(),\n",
        "    transforms.ColorJitter()\n",
        "])"
      ]
    },
    {
      "cell_type": "markdown",
      "metadata": {
        "id": "p5ViikNXsoaL"
      },
      "source": [
        "### Preprocess and Store data\n"
      ]
    },
    {
      "cell_type": "code",
      "execution_count": null,
      "metadata": {
        "colab": {
          "base_uri": "https://localhost:8080/",
          "height": 70
        },
        "id": "FP3hfMK_soaM",
        "outputId": "ea7b4809-4418-4e17-8562-0c59dc3203e5"
      },
      "outputs": [
        {
          "data": {
            "application/vnd.google.colaboratory.intrinsic+json": {
              "type": "string"
            },
            "text/plain": [
              "'preprocess_dataset = LemonDataset(\\n    annotations_file=labels_metadata,\\n    pure_img_dir=DATA_DIR,\\n    processed_img_dir=DATA_DIR,\\n    preprocess=True,\\n    preprocess_transform=preprocess_transform\\n)\\n\\nfor i in range(len(preprocess_dataset)):\\n    print(f\"preprocessing {i}...\")\\n    preprocess_dataset[i]\\n    print(f\"preprocessing of {i} finished\")'"
            ]
          },
          "execution_count": 11,
          "metadata": {},
          "output_type": "execute_result"
        }
      ],
      "source": [
        "# Run this only once to prepare .npy files\n",
        "\n",
        "'''preprocess_dataset = LemonDataset(\n",
        "    annotations_file=labels_metadata,\n",
        "    pure_img_dir=DATA_DIR,\n",
        "    processed_img_dir=DATA_DIR,\n",
        "    preprocess=True,\n",
        "    preprocess_transform=preprocess_transform\n",
        ")\n",
        "\n",
        "for i in range(len(preprocess_dataset)):\n",
        "    print(f\"preprocessing {i}...\")\n",
        "    preprocess_dataset[i]\n",
        "    print(f\"preprocessing of {i} finished\")'''\n",
        "\n"
      ]
    },
    {
      "cell_type": "markdown",
      "metadata": {
        "id": "pHUiDF1obZDo"
      },
      "source": [
        "## Dataloader\n"
      ]
    },
    {
      "cell_type": "code",
      "execution_count": 11,
      "metadata": {
        "id": "mt-iZXNtZEkr"
      },
      "outputs": [],
      "source": [
        "# Set kwargs\n",
        "\n",
        "train_kwargs = {\"batch_size\": BATCH_SIZE}\n",
        "test_kwargs = {\"batch_size\": TEST_BATCH_SIZE}\n",
        "if USE_CUDA:\n",
        "    cuda_kwargs = {\n",
        "        \"num_workers\": 2,\n",
        "        \"pin_memory\": True,\n",
        "        \"shuffle\": True,\n",
        "    }\n",
        "    train_kwargs.update(cuda_kwargs)\n",
        "    test_kwargs.update(cuda_kwargs)\n"
      ]
    },
    {
      "cell_type": "code",
      "execution_count": 12,
      "metadata": {
        "id": "vgq8CDbcTaEi"
      },
      "outputs": [],
      "source": [
        "# Dataloader\n",
        "\n",
        "train_dataset = LemonDataset(\n",
        "    annotations_file=train_metadata,\n",
        "    pure_img_dir=DATA_DIR,\n",
        "    processed_img_dir=DATA_DIR,\n",
        "    preprocess_transform=preprocess_transform,\n",
        "    transform=train_transforms # set this\n",
        ")\n",
        "\n",
        "test_dataset = LemonDataset(\n",
        "    annotations_file=test_metadata,\n",
        "    pure_img_dir=DATA_DIR,\n",
        "    processed_img_dir=DATA_DIR,\n",
        "    preprocess_transform=None,\n",
        "    transform=test_transforms\n",
        ")\n",
        "\n",
        "train_loader = torch.utils.data.DataLoader(\n",
        "    train_dataset,\n",
        "    # drop_last=True,\n",
        "    **train_kwargs,\n",
        ")\n",
        "test_loader = torch.utils.data.DataLoader(\n",
        "    test_dataset,\n",
        "    # drop_last=True,\n",
        "    **test_kwargs,\n",
        ")\n"
      ]
    },
    {
      "cell_type": "markdown",
      "metadata": {
        "id": "FuxTlrU0uuR3"
      },
      "source": [
        "### Visualize Dataset"
      ]
    },
    {
      "cell_type": "code",
      "execution_count": 13,
      "metadata": {
        "colab": {
          "base_uri": "https://localhost:8080/"
        },
        "id": "DEeVDao0Frif",
        "outputId": "35b8b60c-dde5-41e0-9f15-ebef7ac9b7b3"
      },
      "outputs": [
        {
          "output_type": "execute_result",
          "data": {
            "text/plain": [
              "torch.Size([174, 160, 120])"
            ]
          },
          "metadata": {},
          "execution_count": 13
        }
      ],
      "source": [
        "test_dataset[0][0].shape"
      ]
    },
    {
      "cell_type": "code",
      "execution_count": 14,
      "metadata": {
        "colab": {
          "base_uri": "https://localhost:8080/",
          "height": 269
        },
        "id": "VRQCQlB8uvy4",
        "outputId": "bae58012-7380-4e78-f625-33382b08a7a2"
      },
      "outputs": [
        {
          "output_type": "display_data",
          "data": {
            "text/plain": [
              "<Figure size 432x288 with 1 Axes>"
            ],
            "image/png": "[encoded data removed]"
          },
          "metadata": {
            "needs_background": "light"
          }
        }
      ],
      "source": [
        "plt.imshow(test_dataset[0][0][0], cmap=\"gray\");"
      ]
    },
    {
      "cell_type": "markdown",
      "metadata": {
        "id": "My2vMJRtSHD8"
      },
      "source": [
        "# Models\n",
        "Only use one of them for each run."
      ]
    },
    {
      "cell_type": "markdown",
      "metadata": {
        "id": "uJ1MEGYAa-vV"
      },
      "source": [
        "## v1"
      ]
    },
    {
      "cell_type": "code",
      "execution_count": null,
      "metadata": {
        "id": "mD4fSMB9SIdd"
      },
      "outputs": [],
      "source": [
        "\n",
        "# Define Model Class\n",
        "\n",
        "\n",
        "class ModelV1(nn.Module):\n",
        "    def __init__(self):\n",
        "        super(ModelV1, self).__init__()\n",
        "        # (174, 160, 120)\n",
        "        self.conv1 = nn.Sequential(\n",
        "            nn.Conv3d(1, 64, kernel_size=(3, 3, 3)),\n",
        "            nn.ReLU(),\n",
        "            nn.MaxPool3d((2, 2, 2)),\n",
        "            nn.BatchNorm3d(64),\n",
        "        )\n",
        "\n",
        "        self.conv2 = nn.Sequential(\n",
        "            nn.Conv3d(64, 128, kernel_size=(3, 3, 3)),\n",
        "            nn.ReLU(),\n",
        "            nn.MaxPool3d((2, 2, 2)),\n",
        "            nn.BatchNorm3d(128),\n",
        "        )\n",
        "\n",
        "        self.conv3 = nn.Sequential(\n",
        "            nn.Conv3d(128, 128, kernel_size=(3, 3, 3)),\n",
        "            nn.ReLU(),\n",
        "            nn.MaxPool3d((2, 2, 2)),\n",
        "            nn.BatchNorm3d(128),\n",
        "        )\n",
        "\n",
        "        self.conv4 = nn.Sequential(\n",
        "            nn.Conv3d(128, 128, kernel_size=(3, 3, 3)),\n",
        "            nn.ReLU(),\n",
        "            nn.MaxPool3d((2, 2, 2)),\n",
        "            nn.BatchNorm3d(128),\n",
        "        )\n",
        "\n",
        "        self.linear = nn.Sequential(\n",
        "            nn.Linear(46080, 512),\n",
        "            nn.ReLU(),\n",
        "            nn.Dropout(0.3),\n",
        "            nn.Linear(512, 4)\n",
        "        )\n",
        "\n",
        "    def forward(self, x):\n",
        "        x = self.conv1(x)\n",
        "        x = self.conv2(x)\n",
        "        x = self.conv3(x)\n",
        "        x = self.conv4(x)\n",
        "        x = torch.flatten(x, 1)\n",
        "        x = self.linear(x)\n",
        "        return x\n",
        "\n",
        "model = ModelV1()\n",
        "model.name = \"ModelV1\""
      ]
    },
    {
      "cell_type": "markdown",
      "metadata": {
        "id": "E1KTVEbj2yrC"
      },
      "source": [
        "## v2"
      ]
    },
    {
      "cell_type": "code",
      "execution_count": null,
      "metadata": {
        "id": "YOLmRj0r20Fw"
      },
      "outputs": [],
      "source": [
        "\n",
        "# Define Model Class\n",
        "from torch import nn\n",
        "\n",
        "class ModelV2(nn.Module):\n",
        "    def __init__(self):\n",
        "        super(ModelV2, self).__init__()\n",
        "        # (174, 160, 120)\n",
        "        self.conv1 = nn.Sequential(\n",
        "            nn.Conv3d(1, 8, kernel_size=(3, 3, 3)),\n",
        "            nn.ReLU(),\n",
        "            nn.MaxPool3d((2, 2, 2)),\n",
        "            nn.BatchNorm3d(8),\n",
        "        )\n",
        "\n",
        "        self.conv2 = nn.Sequential(\n",
        "            nn.Conv3d(8, 8, kernel_size=(3, 3, 3)),\n",
        "            nn.ReLU(),\n",
        "            nn.MaxPool3d((2, 2, 2)),\n",
        "            nn.BatchNorm3d(8),\n",
        "        )\n",
        "\n",
        "        self.conv3 = nn.Sequential(\n",
        "            nn.Conv3d(8, 16, kernel_size=(3, 3, 3)),\n",
        "            nn.ReLU(),\n",
        "            nn.MaxPool3d((2, 2, 2)),\n",
        "            nn.BatchNorm3d(16),\n",
        "        )\n",
        "\n",
        "        self.conv4 = nn.Sequential(\n",
        "            nn.Conv3d(16, 16, kernel_size=(3, 3, 3)),\n",
        "            nn.ReLU(),\n",
        "            nn.MaxPool3d((2, 2, 2)),\n",
        "            nn.BatchNorm3d(16),\n",
        "        )\n",
        "\n",
        "        self.linear = nn.Sequential(\n",
        "            nn.Linear(5760, 512),\n",
        "            nn.ReLU(),\n",
        "            nn.Dropout(0.3),\n",
        "            nn.Linear(512, 4)\n",
        "        )\n",
        "\n",
        "    def forward(self, x):\n",
        "        x = self.conv1(x)\n",
        "        x = self.conv2(x)\n",
        "        x = self.conv3(x)\n",
        "        x = self.conv4(x)\n",
        "        x = torch.flatten(x, 1)\n",
        "        x = self.linear(x)\n",
        "        return x\n",
        "\n",
        "model = ModelV2()\n",
        "model.name = \"ModelV2\""
      ]
    },
    {
      "cell_type": "markdown",
      "metadata": {
        "id": "siS1MfuTnQ1J"
      },
      "source": [
        "## v3"
      ]
    },
    {
      "cell_type": "code",
      "execution_count": null,
      "metadata": {
        "id": "P6QbMhIgnSzo"
      },
      "outputs": [],
      "source": [
        "# Define Model Class\n",
        "from torch import nn\n",
        "\n",
        "class ModelV3(nn.Module):\n",
        "    def __init__(self):\n",
        "        super(ModelV3, self).__init__()\n",
        "        # (174, 160, 120)\n",
        "        self.conv1 = nn.Sequential(\n",
        "            nn.Conv3d(1, 64, kernel_size=(3, 3, 3)),\n",
        "            nn.ReLU(),\n",
        "            nn.MaxPool3d((2, 2, 2)),\n",
        "            nn.BatchNorm3d(64),\n",
        "        )\n",
        "\n",
        "        self.conv2 = nn.Sequential(\n",
        "            nn.Conv3d(64, 128, kernel_size=(3, 3, 3)),\n",
        "            nn.ReLU(),\n",
        "            nn.MaxPool3d((2, 2, 2)),\n",
        "            nn.BatchNorm3d(128),\n",
        "        )\n",
        "\n",
        "        self.conv3 = nn.Sequential(\n",
        "            nn.Conv3d(128, 256, kernel_size=(3, 3, 3)),\n",
        "            nn.ReLU(),\n",
        "            nn.MaxPool3d((2, 2, 2)),\n",
        "            nn.BatchNorm3d(256),\n",
        "        )\n",
        "\n",
        "        self.conv4 = nn.Sequential(\n",
        "            nn.Conv3d(256, 256, kernel_size=(3, 3, 3)),\n",
        "            nn.ReLU(),\n",
        "            nn.MaxPool3d((2, 2, 2)),\n",
        "            nn.BatchNorm3d(256),\n",
        "        )\n",
        "\n",
        "        self.linear = nn.Sequential(\n",
        "            nn.Linear(92160, 512),\n",
        "            nn.ReLU(),\n",
        "            nn.Dropout(0.3),\n",
        "            nn.Linear(512, 4)\n",
        "        )\n",
        "\n",
        "    def forward(self, x):\n",
        "        x = self.conv1(x)\n",
        "        x = self.conv2(x)\n",
        "        x = self.conv3(x)\n",
        "        x = self.conv4(x)\n",
        "        x = torch.flatten(x, 1)\n",
        "        x = self.linear(x)\n",
        "        return x\n",
        "\n",
        "model = ModelV3()\n",
        "model.name = \"ModelV3\""
      ]
    },
    {
      "cell_type": "markdown",
      "metadata": {
        "id": "J8AXTwsjvZOt"
      },
      "source": [
        "## Resnet"
      ]
    },
    {
      "cell_type": "code",
      "execution_count": null,
      "metadata": {
        "id": "UifNBN49va3Y"
      },
      "outputs": [],
      "source": [
        "model = resnet.generate_model(\n",
        "    model_depth=18, # [10, 18, 34, 50, 101, 152, 200]\n",
        "    n_input_channels=1,\n",
        "    n_classes=4\n",
        ")\n",
        "model.name = \"Resnet\""
      ]
    },
    {
      "cell_type": "markdown",
      "metadata": {
        "id": "E6tDKGEr0l6w"
      },
      "source": [
        "## ResnetV2"
      ]
    },
    {
      "cell_type": "code",
      "execution_count": null,
      "metadata": {
        "id": "Q_LrB6Nl0nZY"
      },
      "outputs": [],
      "source": [
        "model = ResNetV2.generate_model(\n",
        "    model_depth=34, # [10, 18, 34, 50, 101, 152, 200]\n",
        "    n_input_channels=1,\n",
        "    n_classes=CLASS_NUM\n",
        ")\n",
        "model.name = \"ResnetV2-3-class\" "
      ]
    },
    {
      "cell_type": "markdown",
      "metadata": {
        "id": "1cAElRpW-k8t"
      },
      "source": [
        "## DenseNet"
      ]
    },
    {
      "cell_type": "code",
      "execution_count": null,
      "metadata": {
        "id": "v_LAxrfB-ko0"
      },
      "outputs": [],
      "source": [
        "model = DenseNet.generate_model(\n",
        "    model_depth=121,\n",
        "    num_classes=4\n",
        ")\n",
        "model.name = \"DenseNet\""
      ]
    },
    {
      "cell_type": "markdown",
      "metadata": {
        "id": "PVlWkTHl6k8N"
      },
      "source": [
        "## ResNeXt"
      ]
    },
    {
      "cell_type": "code",
      "execution_count": null,
      "metadata": {
        "colab": {
          "base_uri": "https://localhost:8080/"
        },
        "id": "srvRVb716mlk",
        "outputId": "f1e1a306-cca4-44d2-bdcd-be5115f5bcfd"
      },
      "outputs": [
        {
          "name": "stderr",
          "output_type": "stream",
          "text": [
            "/content/3D-CNN-PyTorch/models/ResNeXt.py:130: UserWarning: nn.init.kaiming_normal is now deprecated in favor of nn.init.kaiming_normal_.\n",
            "  m.weight = nn.init.kaiming_normal(m.weight, mode='fan_out')\n"
          ]
        }
      ],
      "source": [
        "# Needs resize (174, 120, 120)\n",
        "model = ResNeXt.generate_model(\n",
        "    model_depth=50, # [50, 101, 152, 200]\n",
        "    n_classes=4,\n",
        "    in_channels=1,\n",
        "    sample_size=120,\n",
        "    sample_duration=174,\n",
        ")\n",
        "model.name = \"ResNetXt\""
      ]
    },
    {
      "cell_type": "markdown",
      "metadata": {
        "id": "bd8sfEEcFVZh"
      },
      "source": [
        "## PreActResNet"
      ]
    },
    {
      "cell_type": "code",
      "execution_count": null,
      "metadata": {
        "id": "b-CrN59gFWWu"
      },
      "outputs": [],
      "source": [
        "model = PreActResNet.generate_model(\n",
        "    model_depth=50, # [50, 101, 152, 200]\n",
        "    n_classes=4,\n",
        "    n_input_channels=1,\n",
        ")\n",
        "model.name = \"PreActResNet\""
      ]
    },
    {
      "cell_type": "markdown",
      "metadata": {
        "id": "_Nxa6LgdGEKV"
      },
      "source": [
        "## WideResNet"
      ]
    },
    {
      "cell_type": "code",
      "execution_count": null,
      "metadata": {
        "id": "v6irZwh4GFDy"
      },
      "outputs": [],
      "source": [
        "model = WideResNet.generate_model(\n",
        "    model_depth=152,\n",
        "    n_classes=4,\n",
        "    n_input_channels=1\n",
        ")\n",
        "model.name = \"WideResNet\""
      ]
    },
    {
      "cell_type": "markdown",
      "metadata": {
        "id": "MCpnsl3XG02O"
      },
      "source": [
        "## SqueezeNet"
      ]
    },
    {
      "cell_type": "code",
      "execution_count": null,
      "metadata": {
        "id": "FY0zTD8mG13G"
      },
      "outputs": [],
      "source": [
        "model = SqueezeNet.get_model(\n",
        "    version=1.0,\n",
        "    sample_size=120,\n",
        "    sample_duration=174,\n",
        "    num_classes=4,\n",
        "    in_channels=1,\n",
        ")\n",
        "model.name = \"SqueezeNet\""
      ]
    },
    {
      "cell_type": "markdown",
      "metadata": {
        "id": "w0h6I7Z9H0aJ"
      },
      "source": [
        "## ShuffleNet"
      ]
    },
    {
      "cell_type": "code",
      "execution_count": null,
      "metadata": {
        "id": "aejWeq5YH1tz"
      },
      "outputs": [],
      "source": [
        "# Needs resize = (160, 160, 120) (ignore now)\n",
        "model = ShuffleNet.get_model(\n",
        "    groups=3,\n",
        "    num_classes=4,\n",
        "    in_channels=1,\n",
        ")\n",
        "model.name = \"ShuffleNet\""
      ]
    },
    {
      "cell_type": "markdown",
      "metadata": {
        "id": "FYb2AmNIIReq"
      },
      "source": [
        "## ShuffleNetV2"
      ]
    },
    {
      "cell_type": "code",
      "execution_count": null,
      "metadata": {
        "id": "tS_wRGE1ITEV"
      },
      "outputs": [],
      "source": [
        "model = ShuffleNetV2.get_model(\n",
        "    sample_size=112,\n",
        "    num_classes=4,\n",
        "    width_mult=1.0,\n",
        "    in_channels=1,\n",
        ")\n",
        "model.name = \"ShuffleNetV2\""
      ]
    },
    {
      "cell_type": "markdown",
      "metadata": {
        "id": "OLyDEwApIvXF"
      },
      "source": [
        "## MobileNet"
      ]
    },
    {
      "cell_type": "code",
      "execution_count": null,
      "metadata": {
        "id": "tbzYZDz_Iw4O"
      },
      "outputs": [],
      "source": [
        "model = MobileNet.get_model(\n",
        "    sample_size=120,\n",
        "    num_classes=4,\n",
        "    in_channels=1,\n",
        ")\n",
        "model.name = \"MobileNet\""
      ]
    },
    {
      "cell_type": "markdown",
      "metadata": {
        "id": "aBKv6_ZjJFgw"
      },
      "source": [
        "## MobileNetV2"
      ]
    },
    {
      "cell_type": "code",
      "execution_count": null,
      "metadata": {
        "id": "9J8YvwS-JGx6"
      },
      "outputs": [],
      "source": [
        "model = MobileNetV2.get_model(\n",
        "    sample_size=112,\n",
        "    num_classes=4,\n",
        "    in_channels=1,\n",
        ")\n",
        "model.name = \"MobileNetV2\""
      ]
    },
    {
      "cell_type": "markdown",
      "metadata": {
        "id": "2K7wwy8PJq76"
      },
      "source": [
        "## EfficientNet3D"
      ]
    },
    {
      "cell_type": "code",
      "execution_count": null,
      "metadata": {
        "colab": {
          "base_uri": "https://localhost:8080/",
          "height": 87
        },
        "id": "nqr_acmdJrzg",
        "outputId": "e73eb160-1bed-4031-c7b2-c614b3090eb3"
      },
      "outputs": [
        {
          "data": {
            "application/vnd.google.colaboratory.intrinsic+json": {
              "type": "string"
            },
            "text/plain": [
              "\"\\n {\\n        # Coefficients:   width,depth,res,dropout\\n        'efficientnet-b0': (1.0, 1.0, 224, 0.2),\\n        'efficientnet-b1': (1.0, 1.1, 240, 0.2),\\n        'efficientnet-b2': (1.1, 1.2, 260, 0.3),\\n        'efficientnet-b3': (1.2, 1.4, 300, 0.3),\\n        'efficientnet-b4': (1.4, 1.8, 380, 0.4),\\n        'efficientnet-b5': (1.6, 2.2, 456, 0.4),\\n        'efficientnet-b6': (1.8, 2.6, 528, 0.5),\\n        'efficientnet-b7': (2.0, 3.1, 600, 0.5),\\n        'efficientnet-b8': (2.2, 3.6, 672, 0.5),\\n        'efficientnet-l2': (4.3, 5.3, 800, 0.5),\\n}\\n\""
            ]
          },
          "execution_count": 16,
          "metadata": {},
          "output_type": "execute_result"
        }
      ],
      "source": [
        "model = EfficientNet3D.from_name(\n",
        "    \"efficientnet-b4\",\n",
        "    override_params={\"num_classes\": 4},\n",
        "    in_channels=1,\n",
        ")\n",
        "model.name = \"EfficientNet3D\"\n",
        "\n",
        "'''\n",
        " {\n",
        "        # Coefficients:   width,depth,res,dropout\n",
        "        'efficientnet-b0': (1.0, 1.0, 224, 0.2),\n",
        "        'efficientnet-b1': (1.0, 1.1, 240, 0.2),\n",
        "        'efficientnet-b2': (1.1, 1.2, 260, 0.3),\n",
        "        'efficientnet-b3': (1.2, 1.4, 300, 0.3),\n",
        "        'efficientnet-b4': (1.4, 1.8, 380, 0.4),\n",
        "        'efficientnet-b5': (1.6, 2.2, 456, 0.4),\n",
        "        'efficientnet-b6': (1.8, 2.6, 528, 0.5),\n",
        "        'efficientnet-b7': (2.0, 3.1, 600, 0.5),\n",
        "        'efficientnet-b8': (2.2, 3.6, 672, 0.5),\n",
        "        'efficientnet-l2': (4.3, 5.3, 800, 0.5),\n",
        "}\n",
        "'''"
      ]
    },
    {
      "cell_type": "markdown",
      "metadata": {
        "id": "UbyJQFBHSiSh"
      },
      "source": [
        "## Ensemble"
      ]
    },
    {
      "cell_type": "code",
      "execution_count": 15,
      "metadata": {
        "colab": {
          "base_uri": "https://localhost:8080/"
        },
        "id": "yaB2tx-JSj5I",
        "outputId": "c2a363f3-ec3e-4366-d6b6-bfd0d2b98abf"
      },
      "outputs": [
        {
          "output_type": "stream",
          "name": "stderr",
          "text": [
            "/usr/local/lib/python3.7/dist-packages/ipykernel_launcher.py:38: UserWarning: nn.init.xavier_uniform is now deprecated in favor of nn.init.xavier_uniform_.\n"
          ]
        }
      ],
      "source": [
        "model1 = ResNetV2.generate_model(\n",
        "    model_depth=34, # [10, 18, 34, 50, 101, 152, 200]\n",
        "    n_input_channels=1,\n",
        "    n_classes=3\n",
        ")\n",
        "model1.name = \"ResnetV2-3-class\"\n",
        "model2 = ResNetV2.generate_model(\n",
        "    model_depth=34, # [10, 18, 34, 50, 101, 152, 200]\n",
        "    n_input_channels=1,\n",
        "    n_classes=3\n",
        ")\n",
        "model2.name = \"ResnetV2-3-class\"\n",
        "model3 = ResNetV2.generate_model(\n",
        "    model_depth=34, # [10, 18, 34, 50, 101, 152, 200]\n",
        "    n_input_channels=1,\n",
        "    n_classes=3\n",
        ")\n",
        "model3.name = \"ResnetV2-3-class\"\n",
        "\n",
        "class Ensemble(nn.Module):\n",
        "    def __init__(self, model1, model2, model3):\n",
        "        super(Ensemble, self).__init__()\n",
        "        self.model1 = model1\n",
        "        self.model2 = model2\n",
        "        self.model3 = model3\n",
        "        self.fc1 = nn.Linear(3, 3)\n",
        "\n",
        "    def forward(self, x):\n",
        "        outs = self.model1(x) + self.model2(x) + self.model3(x)\n",
        "        out = self.fc1(outs)\n",
        "        return out\n",
        "\n",
        "model = Ensemble(model1, model2, model3)\n",
        "model.name = \"Ensemble-ResnetV2-3-class\"\n",
        "\n",
        "def init_weights(m):\n",
        "    try:\n",
        "        torch.nn.init.xavier_uniform(m.weight)\n",
        "    except:\n",
        "        pass # ignore\n",
        "\n",
        "model = model.apply(init_weights)"
      ]
    },
    {
      "cell_type": "markdown",
      "metadata": {
        "id": "KXTPkQ_1SKPX"
      },
      "source": [
        "# Train & Test\n"
      ]
    },
    {
      "cell_type": "markdown",
      "metadata": {
        "id": "4ku-1nsCYXe5"
      },
      "source": [
        "## Instantiate\n"
      ]
    },
    {
      "cell_type": "code",
      "execution_count": 16,
      "metadata": {
        "colab": {
          "base_uri": "https://localhost:8080/"
        },
        "id": "dqMEjh2QXb_K",
        "outputId": "cad42fe9-acca-4fbd-cbae-3a5c4dc6a37c"
      },
      "outputs": [
        {
          "output_type": "stream",
          "name": "stdout",
          "text": [
            "model ==>  <class '__main__.Ensemble'> Ensemble-ResnetV2-3-class\n",
            "Adjusting learning rate of group 0 to 1.0000e-01.\n"
          ]
        }
      ],
      "source": [
        "# Instantiate Model, Optimizer, etc.\n",
        "\n",
        "device = torch.device(\"cuda\" if USE_CUDA else \"cpu\")\n",
        "model = model.to(device)\n",
        "print(\"model ==> \", type(model), model.name)\n",
        "optimizer = optim.Adadelta(model.parameters(), lr=LR)\n",
        "criterion = nn.CrossEntropyLoss()\n",
        "scheduler = ExponentialLR(optimizer, gamma=GAMMA, verbose=True, last_epoch=-1)\n",
        "scaler = torch.cuda.amp.GradScaler(enabled=USE_AMP)"
      ]
    },
    {
      "cell_type": "markdown",
      "metadata": {
        "id": "G6a4Zf5uYakv"
      },
      "source": [
        "## Define Functions\n"
      ]
    },
    {
      "cell_type": "code",
      "execution_count": 17,
      "metadata": {
        "id": "CYf6aGbLycEE"
      },
      "outputs": [],
      "source": [
        "# Store statistics during training\n",
        "class Statistics:\n",
        "    train_losses = []\n",
        "    test_losses = []\n",
        "    max_acc = 0\n",
        "    accuracies = []\n",
        "    tests_accs = [0 for _ in range(len(test_loader))]\n",
        "    confmatrices = []\n",
        "\n",
        "stats = Statistics()"
      ]
    },
    {
      "cell_type": "code",
      "execution_count": 18,
      "metadata": {
        "id": "uT-FEVv1SNMr"
      },
      "outputs": [],
      "source": [
        "# Define Train Function\n",
        "\n",
        "def train(model, device, train_loader, optimizer, epoch, stats):\n",
        "    model.train()\n",
        "    loss_sum = 0\n",
        "    for batch_idx, (data, target) in enumerate(train_loader):\n",
        "        if ADD_CHANNEL_TO_INPUT:\n",
        "            data = data[:, None] # single channel 3D input\n",
        "        data = data.float()\n",
        "        data, target = data.to(device), target.to(device)\n",
        "\n",
        "        with torch.cuda.amp.autocast(enabled=USE_AMP):\n",
        "            output = model(data)\n",
        "            loss = criterion(output, target)\n",
        "            loss_sum += loss.item()\n",
        "            loss = loss / ITERS_TO_ACCUMULATE\n",
        "\n",
        "        # Accumulates scaled gradients.\n",
        "        scaler.scale(loss).backward()\n",
        "\n",
        "\n",
        "        if ((batch_idx + 1) % ITERS_TO_ACCUMULATE == 0) or ((batch_idx + 1) == len(train_loader)):\n",
        "            # may unscale_ here if desired (e.g., to allow clipping unscaled gradients)\n",
        "\n",
        "            scaler.step(optimizer)\n",
        "            scaler.update()\n",
        "            optimizer.zero_grad()\n",
        "        \n",
        "            if (batch_idx + 1) % LOG_INTERVAL == 0:\n",
        "                print(\n",
        "                    \"Train Epoch: {} [{}/{} ({:.0f}%)]\\tLoss: {:.6f}\".format(\n",
        "                        epoch,\n",
        "                        batch_idx * len(data),\n",
        "                        len(train_loader.dataset),\n",
        "                        100.0 * batch_idx / len(train_loader),\n",
        "                        loss.item() * ITERS_TO_ACCUMULATE,\n",
        "                    )\n",
        "                )\n",
        "                if DRY_RUN:\n",
        "                    break\n",
        "    stats.train_losses.append(loss_sum / len(train_loader.dataset))\n"
      ]
    },
    {
      "cell_type": "code",
      "execution_count": 19,
      "metadata": {
        "id": "1Me0s5q6YRps"
      },
      "outputs": [],
      "source": [
        "# Define Test Function\n",
        "\n",
        "def test(model, device, test_loader, stats, save_checkpoint=False):\n",
        "    model.eval()\n",
        "    test_loss = 0\n",
        "    correct = 0\n",
        "    targets = torch.Tensor([]).to(device)\n",
        "    preds = torch.Tensor([]).to(device)\n",
        "    with torch.no_grad():\n",
        "        for _ in range(TEST_SET_AUGMENTATION_COEF):\n",
        "            for index, (data, target) in enumerate(test_loader):\n",
        "                if ADD_CHANNEL_TO_INPUT:\n",
        "                    data = data[:, None] # single channel 3D input\n",
        "                data = data.float()\n",
        "                data, target = data.to(device), target.to(device)\n",
        "                output = model(data)\n",
        "                test_loss += criterion(output, target).item()  # sum up batch loss\n",
        "                pred = output.argmax(dim=1, keepdim=True)  # get the index of the max log-probability\n",
        "\n",
        "                # For confusion matrix\n",
        "                targets = torch.cat((targets, target))\n",
        "                preds = torch.cat((preds, pred.view_as(target)))\n",
        "\n",
        "                local_correct = pred.eq(target.view_as(pred)).sum().item()\n",
        "                correct += local_correct\n",
        "                # tests with less acc\n",
        "                stats.tests_accs[index] += (TEST_BATCH_SIZE - local_correct)\n",
        "\n",
        "    # Confusion matrix\n",
        "    confmat = ConfusionMatrix(num_classes=CLASS_NUM).to(device)\n",
        "    confmatrix = confmat(preds.to(torch.int64), targets.to(torch.int64))\n",
        "    print(confmatrix)\n",
        "    stats.confmatrices.append(confmatrix)\n",
        "\n",
        "    test_loss /= len(test_loader.dataset) * TEST_SET_AUGMENTATION_COEF\n",
        "    stats.test_losses.append(test_loss)\n",
        "    \n",
        "    acc = 100.0 * correct / (len(test_loader.dataset) * TEST_SET_AUGMENTATION_COEF)\n",
        "    stats.accuracies.append(acc)\n",
        "    if acc > stats.max_acc:\n",
        "        stats.max_acc = acc\n",
        "        if save_checkpoint and acc >= MIN_ACC_TO_SAVE:\n",
        "            print(f\"Saving model {acc:.0f}...\")\n",
        "            torch.save(model.state_dict(), os.path.join(CHECKPOINTS_DIR, f\"model-cnn-{model.name}-{acc:.0f}.pt\"))\n",
        "\n",
        "    print(\n",
        "        \"\\nTest set: Average loss: {:.4f}, Accuracy: {}/{} ({:.0f}%)\".format(\n",
        "            test_loss,\n",
        "            correct,\n",
        "            len(test_loader.dataset) * TEST_SET_AUGMENTATION_COEF,\n",
        "            acc,\n",
        "        )\n",
        "    )\n"
      ]
    },
    {
      "cell_type": "markdown",
      "metadata": {
        "id": "134F1lbFYTi2"
      },
      "source": [
        "## Train Loop\n"
      ]
    },
    {
      "cell_type": "code",
      "execution_count": 20,
      "metadata": {
        "colab": {
          "base_uri": "https://localhost:8080/",
          "height": 1000
        },
        "id": "UZwMJFW6YEGQ",
        "outputId": "271eaf45-1444-4d40-d291-a7c549764e44"
      },
      "outputs": [
        {
          "output_type": "stream",
          "name": "stdout",
          "text": [
            "Train Epoch: 1 [28/145 (19%)]\tLoss: 2.239036\n",
            "Train Epoch: 1 [60/145 (41%)]\tLoss: 17.081543\n",
            "Train Epoch: 1 [92/145 (62%)]\tLoss: 8.013733\n",
            "Train Epoch: 1 [124/145 (84%)]\tLoss: 0.380862\n",
            "tensor([[ 0,  1, 27],\n",
            "        [ 0,  6, 22],\n",
            "        [ 0,  1, 27]], device='cuda:0')\n",
            "\n",
            "Test set: Average loss: 26.9749, Accuracy: 33/84 (39%)\n",
            "max acc = 39.285714285714285\n",
            "epoch time = 0:02:16.221484 \n",
            "\n",
            "Adjusting learning rate of group 0 to 9.0000e-02.\n",
            "Train Epoch: 2 [28/145 (19%)]\tLoss: 1.875294\n",
            "Train Epoch: 2 [60/145 (41%)]\tLoss: 2.785503\n",
            "Train Epoch: 2 [92/145 (62%)]\tLoss: 3.607361\n",
            "Train Epoch: 2 [124/145 (84%)]\tLoss: 1.616861\n",
            "tensor([[21,  7,  0],\n",
            "        [ 1, 27,  0],\n",
            "        [13,  7,  8]], device='cuda:0')\n",
            "\n",
            "Test set: Average loss: 0.7598, Accuracy: 56/84 (67%)\n",
            "max acc = 66.66666666666667\n",
            "epoch time = 0:01:15.730370 \n",
            "\n",
            "Adjusting learning rate of group 0 to 8.1000e-02.\n",
            "Train Epoch: 3 [28/145 (19%)]\tLoss: 1.821790\n",
            "Train Epoch: 3 [60/145 (41%)]\tLoss: 3.627655\n",
            "Train Epoch: 3 [92/145 (62%)]\tLoss: 0.813517\n",
            "Train Epoch: 3 [124/145 (84%)]\tLoss: 1.795166\n",
            "tensor([[16,  6,  6],\n",
            "        [ 0, 28,  0],\n",
            "        [11,  6, 11]], device='cuda:0')\n",
            "\n",
            "Test set: Average loss: 0.2763, Accuracy: 55/84 (65%)\n",
            "max acc = 66.66666666666667\n",
            "epoch time = 0:01:15.593204 \n",
            "\n",
            "Adjusting learning rate of group 0 to 7.2900e-02.\n",
            "Train Epoch: 4 [28/145 (19%)]\tLoss: 0.703461\n",
            "Train Epoch: 4 [60/145 (41%)]\tLoss: 0.745160\n",
            "Train Epoch: 4 [92/145 (62%)]\tLoss: 0.606548\n",
            "Train Epoch: 4 [124/145 (84%)]\tLoss: 1.241211\n",
            "tensor([[ 6, 18,  4],\n",
            "        [ 0, 28,  0],\n",
            "        [ 0, 17, 11]], device='cuda:0')\n",
            "\n",
            "Test set: Average loss: 1.0137, Accuracy: 45/84 (54%)\n",
            "max acc = 66.66666666666667\n",
            "epoch time = 0:01:15.548985 \n",
            "\n",
            "Adjusting learning rate of group 0 to 6.5610e-02.\n",
            "Train Epoch: 5 [28/145 (19%)]\tLoss: 1.032810\n",
            "Train Epoch: 5 [60/145 (41%)]\tLoss: 1.706875\n",
            "Train Epoch: 5 [92/145 (62%)]\tLoss: 0.780266\n",
            "Train Epoch: 5 [124/145 (84%)]\tLoss: 0.239227\n",
            "tensor([[ 8,  2, 18],\n",
            "        [ 4, 24,  0],\n",
            "        [ 2,  6, 20]], device='cuda:0')\n",
            "\n",
            "Test set: Average loss: 0.2909, Accuracy: 52/84 (62%)\n",
            "max acc = 66.66666666666667\n",
            "epoch time = 0:01:15.793067 \n",
            "\n",
            "Adjusting learning rate of group 0 to 5.9049e-02.\n",
            "Train Epoch: 6 [28/145 (19%)]\tLoss: 0.861687\n",
            "Train Epoch: 6 [60/145 (41%)]\tLoss: 2.107590\n",
            "Train Epoch: 6 [92/145 (62%)]\tLoss: 0.346024\n",
            "Train Epoch: 6 [124/145 (84%)]\tLoss: 0.890030\n",
            "tensor([[ 6,  0, 22],\n",
            "        [ 8, 16,  4],\n",
            "        [ 2,  4, 22]], device='cuda:0')\n",
            "\n",
            "Test set: Average loss: 0.6314, Accuracy: 44/84 (52%)\n",
            "max acc = 66.66666666666667\n",
            "epoch time = 0:01:15.484833 \n",
            "\n",
            "Adjusting learning rate of group 0 to 5.3144e-02.\n",
            "Train Epoch: 7 [28/145 (19%)]\tLoss: 2.198792\n",
            "Train Epoch: 7 [60/145 (41%)]\tLoss: 1.318481\n",
            "Train Epoch: 7 [92/145 (62%)]\tLoss: 0.575256\n",
            "Train Epoch: 7 [124/145 (84%)]\tLoss: 1.124541\n",
            "tensor([[14,  1, 13],\n",
            "        [ 2, 26,  0],\n",
            "        [ 2,  6, 20]], device='cuda:0')\n",
            "\n",
            "Test set: Average loss: 0.2085, Accuracy: 60/84 (71%)\n",
            "max acc = 71.42857142857143\n",
            "epoch time = 0:01:15.505060 \n",
            "\n",
            "Adjusting learning rate of group 0 to 4.7830e-02.\n",
            "Train Epoch: 8 [28/145 (19%)]\tLoss: 0.796677\n",
            "Train Epoch: 8 [60/145 (41%)]\tLoss: 1.176636\n",
            "Train Epoch: 8 [92/145 (62%)]\tLoss: 0.323486\n",
            "Train Epoch: 8 [124/145 (84%)]\tLoss: 0.621754\n",
            "tensor([[ 0, 28,  0],\n",
            "        [ 0, 28,  0],\n",
            "        [ 0, 28,  0]], device='cuda:0')\n",
            "\n",
            "Test set: Average loss: 4.5440, Accuracy: 28/84 (33%)\n",
            "max acc = 71.42857142857143\n",
            "epoch time = 0:01:15.617184 \n",
            "\n",
            "Adjusting learning rate of group 0 to 4.3047e-02.\n",
            "Train Epoch: 9 [28/145 (19%)]\tLoss: 0.898521\n",
            "Train Epoch: 9 [60/145 (41%)]\tLoss: 1.943420\n",
            "Train Epoch: 9 [92/145 (62%)]\tLoss: 0.409424\n",
            "Train Epoch: 9 [124/145 (84%)]\tLoss: 1.029755\n",
            "tensor([[16,  2, 10],\n",
            "        [ 0, 28,  0],\n",
            "        [ 0,  6, 22]], device='cuda:0')\n",
            "\n",
            "Test set: Average loss: 0.1710, Accuracy: 66/84 (79%)\n",
            "max acc = 78.57142857142857\n",
            "epoch time = 0:01:15.490192 \n",
            "\n",
            "Adjusting learning rate of group 0 to 3.8742e-02.\n",
            "Train Epoch: 10 [28/145 (19%)]\tLoss: 0.669617\n",
            "Train Epoch: 10 [60/145 (41%)]\tLoss: 2.104980\n",
            "Train Epoch: 10 [92/145 (62%)]\tLoss: 0.327499\n",
            "Train Epoch: 10 [124/145 (84%)]\tLoss: 0.461475\n",
            "tensor([[24,  4,  0],\n",
            "        [ 0, 28,  0],\n",
            "        [ 6,  8, 14]], device='cuda:0')\n",
            "\n",
            "Test set: Average loss: 0.1830, Accuracy: 66/84 (79%)\n",
            "max acc = 78.57142857142857\n",
            "epoch time = 0:01:15.623671 \n",
            "\n",
            "Adjusting learning rate of group 0 to 3.4868e-02.\n",
            "Train Epoch: 11 [28/145 (19%)]\tLoss: 0.387085\n",
            "Train Epoch: 11 [60/145 (41%)]\tLoss: 0.226593\n",
            "Train Epoch: 11 [92/145 (62%)]\tLoss: 0.411346\n",
            "Train Epoch: 11 [124/145 (84%)]\tLoss: 0.823914\n",
            "tensor([[ 8,  2, 18],\n",
            "        [ 1, 22,  5],\n",
            "        [ 0,  6, 22]], device='cuda:0')\n",
            "\n",
            "Test set: Average loss: 0.2221, Accuracy: 52/84 (62%)\n",
            "max acc = 78.57142857142857\n",
            "epoch time = 0:01:15.501321 \n",
            "\n",
            "Adjusting learning rate of group 0 to 3.1381e-02.\n",
            "Train Epoch: 12 [28/145 (19%)]\tLoss: 0.358879\n",
            "Train Epoch: 12 [60/145 (41%)]\tLoss: 2.103516\n",
            "Train Epoch: 12 [92/145 (62%)]\tLoss: 0.204643\n",
            "Train Epoch: 12 [124/145 (84%)]\tLoss: 0.591705\n",
            "tensor([[ 8,  3, 17],\n",
            "        [ 1, 27,  0],\n",
            "        [ 0,  6, 22]], device='cuda:0')\n",
            "\n",
            "Test set: Average loss: 0.2145, Accuracy: 57/84 (68%)\n",
            "max acc = 78.57142857142857\n",
            "epoch time = 0:01:15.494812 \n",
            "\n",
            "Adjusting learning rate of group 0 to 2.8243e-02.\n",
            "Train Epoch: 13 [28/145 (19%)]\tLoss: 0.500366\n",
            "Train Epoch: 13 [60/145 (41%)]\tLoss: 0.569641\n",
            "Train Epoch: 13 [92/145 (62%)]\tLoss: 0.784363\n",
            "Train Epoch: 13 [124/145 (84%)]\tLoss: 1.554810\n",
            "tensor([[ 6,  0, 22],\n",
            "        [ 3, 19,  6],\n",
            "        [ 1,  5, 22]], device='cuda:0')\n",
            "\n",
            "Test set: Average loss: 0.3826, Accuracy: 47/84 (56%)\n",
            "max acc = 78.57142857142857\n",
            "epoch time = 0:01:15.626653 \n",
            "\n",
            "Adjusting learning rate of group 0 to 2.5419e-02.\n",
            "Train Epoch: 14 [28/145 (19%)]\tLoss: 0.128517\n",
            "Train Epoch: 14 [60/145 (41%)]\tLoss: 0.213638\n",
            "Train Epoch: 14 [92/145 (62%)]\tLoss: 0.239641\n",
            "Train Epoch: 14 [124/145 (84%)]\tLoss: 0.766960\n",
            "tensor([[ 4,  7, 17],\n",
            "        [ 0, 28,  0],\n",
            "        [ 0,  7, 21]], device='cuda:0')\n",
            "\n",
            "Test set: Average loss: 0.3050, Accuracy: 53/84 (63%)\n",
            "max acc = 78.57142857142857\n",
            "epoch time = 0:01:15.508959 \n",
            "\n",
            "Adjusting learning rate of group 0 to 2.2877e-02.\n",
            "Train Epoch: 15 [28/145 (19%)]\tLoss: 0.575594\n",
            "Train Epoch: 15 [60/145 (41%)]\tLoss: 0.326233\n",
            "Train Epoch: 15 [92/145 (62%)]\tLoss: 0.316915\n",
            "Train Epoch: 15 [124/145 (84%)]\tLoss: 0.355947\n",
            "tensor([[ 5, 19,  4],\n",
            "        [ 0, 28,  0],\n",
            "        [ 0, 18, 10]], device='cuda:0')\n",
            "\n",
            "Test set: Average loss: 0.5371, Accuracy: 43/84 (51%)\n",
            "max acc = 78.57142857142857\n",
            "epoch time = 0:01:15.633611 \n",
            "\n",
            "Adjusting learning rate of group 0 to 2.0589e-02.\n",
            "Train Epoch: 16 [28/145 (19%)]\tLoss: 0.689117\n",
            "Train Epoch: 16 [60/145 (41%)]\tLoss: 0.232979\n",
            "Train Epoch: 16 [92/145 (62%)]\tLoss: 1.532181\n",
            "Train Epoch: 16 [124/145 (84%)]\tLoss: 2.506714\n",
            "tensor([[20,  2,  6],\n",
            "        [ 2, 26,  0],\n",
            "        [ 6,  5, 17]], device='cuda:0')\n",
            "\n",
            "Test set: Average loss: 0.1911, Accuracy: 63/84 (75%)\n",
            "max acc = 78.57142857142857\n",
            "epoch time = 0:01:15.585322 \n",
            "\n",
            "Adjusting learning rate of group 0 to 1.8530e-02.\n",
            "Train Epoch: 17 [28/145 (19%)]\tLoss: 0.517738\n",
            "Train Epoch: 17 [60/145 (41%)]\tLoss: 0.314850\n",
            "Train Epoch: 17 [92/145 (62%)]\tLoss: 0.896362\n",
            "Train Epoch: 17 [124/145 (84%)]\tLoss: 0.582985\n",
            "tensor([[19,  2,  7],\n",
            "        [ 3, 23,  2],\n",
            "        [ 1,  6, 21]], device='cuda:0')\n",
            "\n",
            "Test set: Average loss: 0.1540, Accuracy: 63/84 (75%)\n",
            "max acc = 78.57142857142857\n",
            "epoch time = 0:01:15.590276 \n",
            "\n",
            "Adjusting learning rate of group 0 to 1.6677e-02.\n",
            "Train Epoch: 18 [28/145 (19%)]\tLoss: 0.549812\n",
            "Train Epoch: 18 [60/145 (41%)]\tLoss: 0.358398\n",
            "Train Epoch: 18 [92/145 (62%)]\tLoss: 1.005493\n",
            "Train Epoch: 18 [124/145 (84%)]\tLoss: 0.433746\n",
            "tensor([[19,  4,  5],\n",
            "        [ 0, 28,  0],\n",
            "        [ 3,  6, 19]], device='cuda:0')\n",
            "\n",
            "Test set: Average loss: 0.1449, Accuracy: 66/84 (79%)\n",
            "max acc = 78.57142857142857\n",
            "epoch time = 0:01:15.560441 \n",
            "\n",
            "Adjusting learning rate of group 0 to 1.5009e-02.\n",
            "Train Epoch: 19 [28/145 (19%)]\tLoss: 0.288160\n",
            "Train Epoch: 19 [60/145 (41%)]\tLoss: 0.531921\n",
            "Train Epoch: 19 [92/145 (62%)]\tLoss: 0.342041\n",
            "Train Epoch: 19 [124/145 (84%)]\tLoss: 0.208496\n",
            "tensor([[24,  2,  2],\n",
            "        [ 0, 28,  0],\n",
            "        [ 5,  5, 18]], device='cuda:0')\n",
            "\n",
            "Test set: Average loss: 0.1364, Accuracy: 70/84 (83%)\n",
            "max acc = 83.33333333333333\n",
            "epoch time = 0:01:15.636448 \n",
            "\n",
            "Adjusting learning rate of group 0 to 1.3509e-02.\n",
            "Train Epoch: 20 [28/145 (19%)]\tLoss: 0.311642\n",
            "Train Epoch: 20 [60/145 (41%)]\tLoss: 0.365318\n",
            "Train Epoch: 20 [92/145 (62%)]\tLoss: 0.956207\n",
            "Train Epoch: 20 [124/145 (84%)]\tLoss: 0.618835\n",
            "tensor([[20,  0,  8],\n",
            "        [ 1, 27,  0],\n",
            "        [ 5,  2, 21]], device='cuda:0')\n",
            "\n",
            "Test set: Average loss: 0.1239, Accuracy: 68/84 (81%)\n",
            "max acc = 83.33333333333333\n",
            "epoch time = 0:01:15.684055 \n",
            "\n",
            "Adjusting learning rate of group 0 to 1.2158e-02.\n",
            "Train Epoch: 21 [28/145 (19%)]\tLoss: 0.750496\n",
            "Train Epoch: 21 [60/145 (41%)]\tLoss: 0.313332\n",
            "Train Epoch: 21 [92/145 (62%)]\tLoss: 0.788055\n",
            "Train Epoch: 21 [124/145 (84%)]\tLoss: 0.377792\n",
            "tensor([[ 0, 28,  0],\n",
            "        [ 0, 28,  0],\n",
            "        [ 0, 28,  0]], device='cuda:0')\n",
            "\n",
            "Test set: Average loss: 1.1041, Accuracy: 28/84 (33%)\n",
            "max acc = 83.33333333333333\n",
            "epoch time = 0:01:15.538054 \n",
            "\n",
            "Adjusting learning rate of group 0 to 1.0942e-02.\n",
            "Train Epoch: 22 [28/145 (19%)]\tLoss: 0.476868\n",
            "Train Epoch: 22 [60/145 (41%)]\tLoss: 1.139687\n",
            "Train Epoch: 22 [92/145 (62%)]\tLoss: 0.249725\n",
            "Train Epoch: 22 [124/145 (84%)]\tLoss: 0.927246\n",
            "tensor([[19,  3,  6],\n",
            "        [ 0, 28,  0],\n",
            "        [ 3,  4, 21]], device='cuda:0')\n",
            "\n",
            "Test set: Average loss: 0.1336, Accuracy: 68/84 (81%)\n",
            "max acc = 83.33333333333333\n",
            "epoch time = 0:01:15.690451 \n",
            "\n",
            "Adjusting learning rate of group 0 to 9.8477e-03.\n",
            "Train Epoch: 23 [28/145 (19%)]\tLoss: 0.812088\n",
            "Train Epoch: 23 [60/145 (41%)]\tLoss: 0.340569\n",
            "Train Epoch: 23 [92/145 (62%)]\tLoss: 0.535950\n",
            "Train Epoch: 23 [124/145 (84%)]\tLoss: 0.810913\n",
            "tensor([[13,  0, 15],\n",
            "        [ 3, 23,  2],\n",
            "        [ 0,  4, 24]], device='cuda:0')\n",
            "\n",
            "Test set: Average loss: 0.1516, Accuracy: 60/84 (71%)\n",
            "max acc = 83.33333333333333\n",
            "epoch time = 0:01:15.596447 \n",
            "\n",
            "Adjusting learning rate of group 0 to 8.8629e-03.\n",
            "Train Epoch: 24 [28/145 (19%)]\tLoss: 1.955444\n",
            "Train Epoch: 24 [60/145 (41%)]\tLoss: 1.799423\n",
            "Train Epoch: 24 [92/145 (62%)]\tLoss: 0.044529\n",
            "Train Epoch: 24 [124/145 (84%)]\tLoss: 0.364807\n",
            "tensor([[16,  0, 12],\n",
            "        [ 0, 26,  2],\n",
            "        [ 0,  4, 24]], device='cuda:0')\n",
            "\n",
            "Test set: Average loss: 0.1365, Accuracy: 66/84 (79%)\n",
            "max acc = 83.33333333333333\n",
            "epoch time = 0:01:15.622699 \n",
            "\n",
            "Adjusting learning rate of group 0 to 7.9766e-03.\n",
            "Train Epoch: 25 [28/145 (19%)]\tLoss: 0.448013\n",
            "Train Epoch: 25 [60/145 (41%)]\tLoss: 1.150269\n",
            "Train Epoch: 25 [92/145 (62%)]\tLoss: 0.296616\n",
            "Train Epoch: 25 [124/145 (84%)]\tLoss: 0.241405\n",
            "tensor([[ 0, 28,  0],\n",
            "        [ 0, 28,  0],\n",
            "        [ 0, 28,  0]], device='cuda:0')\n",
            "\n",
            "Test set: Average loss: 2.6260, Accuracy: 28/84 (33%)\n",
            "max acc = 83.33333333333333\n",
            "epoch time = 0:01:15.563536 \n",
            "\n",
            "Adjusting learning rate of group 0 to 7.1790e-03.\n",
            "Train Epoch: 26 [28/145 (19%)]\tLoss: 0.200562\n",
            "Train Epoch: 26 [60/145 (41%)]\tLoss: 0.178623\n",
            "Train Epoch: 26 [92/145 (62%)]\tLoss: 1.252563\n",
            "Train Epoch: 26 [124/145 (84%)]\tLoss: 0.721481\n",
            "tensor([[21,  2,  5],\n",
            "        [ 1, 27,  0],\n",
            "        [ 4,  5, 19]], device='cuda:0')\n",
            "\n",
            "Test set: Average loss: 0.1291, Accuracy: 67/84 (80%)\n",
            "max acc = 83.33333333333333\n",
            "epoch time = 0:01:15.672284 \n",
            "\n",
            "Adjusting learning rate of group 0 to 6.4611e-03.\n",
            "Train Epoch: 27 [28/145 (19%)]\tLoss: 0.504471\n",
            "Train Epoch: 27 [60/145 (41%)]\tLoss: 0.402245\n",
            "Train Epoch: 27 [92/145 (62%)]\tLoss: 0.524361\n",
            "Train Epoch: 27 [124/145 (84%)]\tLoss: 0.206642\n",
            "tensor([[12,  0, 16],\n",
            "        [ 0, 27,  1],\n",
            "        [ 0,  5, 23]], device='cuda:0')\n",
            "\n",
            "Test set: Average loss: 0.1637, Accuracy: 62/84 (74%)\n",
            "max acc = 83.33333333333333\n",
            "epoch time = 0:01:15.640008 \n",
            "\n",
            "Adjusting learning rate of group 0 to 5.8150e-03.\n",
            "Train Epoch: 28 [28/145 (19%)]\tLoss: 0.274876\n",
            "Train Epoch: 28 [60/145 (41%)]\tLoss: 0.229660\n",
            "Train Epoch: 28 [92/145 (62%)]\tLoss: 1.253906\n",
            "Train Epoch: 28 [124/145 (84%)]\tLoss: 0.176571\n",
            "tensor([[21,  3,  4],\n",
            "        [ 0, 28,  0],\n",
            "        [ 3,  5, 20]], device='cuda:0')\n",
            "\n",
            "Test set: Average loss: 0.1588, Accuracy: 69/84 (82%)\n",
            "max acc = 83.33333333333333\n",
            "epoch time = 0:01:15.903740 \n",
            "\n",
            "Adjusting learning rate of group 0 to 5.2335e-03.\n",
            "Train Epoch: 29 [28/145 (19%)]\tLoss: 0.313683\n",
            "Train Epoch: 29 [60/145 (41%)]\tLoss: 0.094627\n",
            "Train Epoch: 29 [92/145 (62%)]\tLoss: 0.061516\n",
            "Train Epoch: 29 [124/145 (84%)]\tLoss: 0.281174\n",
            "tensor([[22,  2,  4],\n",
            "        [ 0, 28,  0],\n",
            "        [ 2,  5, 21]], device='cuda:0')\n",
            "\n",
            "Test set: Average loss: 0.1308, Accuracy: 71/84 (85%)\n",
            "max acc = 84.52380952380952\n",
            "epoch time = 0:01:15.606132 \n",
            "\n",
            "Adjusting learning rate of group 0 to 4.7101e-03.\n",
            "Train Epoch: 30 [28/145 (19%)]\tLoss: 0.234131\n",
            "Train Epoch: 30 [60/145 (41%)]\tLoss: 0.108940\n",
            "Train Epoch: 30 [92/145 (62%)]\tLoss: 0.606323\n",
            "Train Epoch: 30 [124/145 (84%)]\tLoss: 0.162201\n",
            "tensor([[22,  2,  4],\n",
            "        [ 0, 28,  0],\n",
            "        [ 4,  5, 19]], device='cuda:0')\n",
            "\n",
            "Test set: Average loss: 0.1570, Accuracy: 69/84 (82%)\n",
            "max acc = 84.52380952380952\n",
            "epoch time = 0:01:15.654013 \n",
            "\n",
            "Adjusting learning rate of group 0 to 4.2391e-03.\n",
            "Train Epoch: 31 [28/145 (19%)]\tLoss: 1.559753\n",
            "Train Epoch: 31 [60/145 (41%)]\tLoss: 0.296524\n",
            "Train Epoch: 31 [92/145 (62%)]\tLoss: 0.153717\n",
            "Train Epoch: 31 [124/145 (84%)]\tLoss: 0.623579\n",
            "tensor([[21,  2,  5],\n",
            "        [ 2, 26,  0],\n",
            "        [ 3,  6, 19]], device='cuda:0')\n",
            "\n",
            "Test set: Average loss: 0.1238, Accuracy: 66/84 (79%)\n",
            "max acc = 84.52380952380952\n",
            "epoch time = 0:01:15.619965 \n",
            "\n",
            "Adjusting learning rate of group 0 to 3.8152e-03.\n",
            "Train Epoch: 32 [28/145 (19%)]\tLoss: 0.289017\n",
            "Train Epoch: 32 [60/145 (41%)]\tLoss: 0.947021\n",
            "Train Epoch: 32 [92/145 (62%)]\tLoss: 0.151283\n",
            "Train Epoch: 32 [124/145 (84%)]\tLoss: 0.431473\n",
            "tensor([[18,  2,  8],\n",
            "        [ 2, 26,  0],\n",
            "        [ 1,  5, 22]], device='cuda:0')\n",
            "\n",
            "Test set: Average loss: 0.1396, Accuracy: 66/84 (79%)\n",
            "max acc = 84.52380952380952\n",
            "epoch time = 0:01:15.707768 \n",
            "\n",
            "Adjusting learning rate of group 0 to 3.4337e-03.\n",
            "Train Epoch: 33 [28/145 (19%)]\tLoss: 0.188019\n",
            "Train Epoch: 33 [60/145 (41%)]\tLoss: 0.294739\n",
            "Train Epoch: 33 [92/145 (62%)]\tLoss: 0.081419\n",
            "Train Epoch: 33 [124/145 (84%)]\tLoss: 0.362305\n",
            "tensor([[20,  2,  6],\n",
            "        [ 2, 26,  0],\n",
            "        [ 1,  6, 21]], device='cuda:0')\n",
            "\n",
            "Test set: Average loss: 0.1170, Accuracy: 67/84 (80%)\n",
            "max acc = 84.52380952380952\n",
            "epoch time = 0:01:15.650457 \n",
            "\n",
            "Adjusting learning rate of group 0 to 3.0903e-03.\n",
            "Train Epoch: 34 [28/145 (19%)]\tLoss: 0.772797\n",
            "Train Epoch: 34 [60/145 (41%)]\tLoss: 0.110142\n",
            "Train Epoch: 34 [92/145 (62%)]\tLoss: 0.140404\n",
            "Train Epoch: 34 [124/145 (84%)]\tLoss: 0.283890\n",
            "tensor([[20,  2,  6],\n",
            "        [ 0, 28,  0],\n",
            "        [ 0,  6, 22]], device='cuda:0')\n",
            "\n",
            "Test set: Average loss: 0.1192, Accuracy: 70/84 (83%)\n",
            "max acc = 84.52380952380952\n",
            "epoch time = 0:01:15.546827 \n",
            "\n",
            "Adjusting learning rate of group 0 to 2.7813e-03.\n",
            "Train Epoch: 35 [28/145 (19%)]\tLoss: 0.228817\n",
            "Train Epoch: 35 [60/145 (41%)]\tLoss: 0.477829\n",
            "Train Epoch: 35 [92/145 (62%)]\tLoss: 0.122578\n",
            "Train Epoch: 35 [124/145 (84%)]\tLoss: 0.485321\n",
            "tensor([[22,  2,  4],\n",
            "        [ 1, 27,  0],\n",
            "        [ 4,  6, 18]], device='cuda:0')\n",
            "\n",
            "Test set: Average loss: 0.1453, Accuracy: 67/84 (80%)\n",
            "max acc = 84.52380952380952\n",
            "epoch time = 0:01:15.663100 \n",
            "\n",
            "Adjusting learning rate of group 0 to 2.5032e-03.\n",
            "Train Epoch: 36 [28/145 (19%)]\tLoss: 0.420639\n",
            "Train Epoch: 36 [60/145 (41%)]\tLoss: 0.488708\n",
            "Train Epoch: 36 [92/145 (62%)]\tLoss: 0.152676\n",
            "Train Epoch: 36 [124/145 (84%)]\tLoss: 0.087982\n",
            "tensor([[20,  2,  6],\n",
            "        [ 0, 28,  0],\n",
            "        [ 2,  5, 21]], device='cuda:0')\n",
            "\n",
            "Test set: Average loss: 0.1385, Accuracy: 69/84 (82%)\n",
            "max acc = 84.52380952380952\n",
            "epoch time = 0:01:15.772384 \n",
            "\n",
            "Adjusting learning rate of group 0 to 2.2528e-03.\n",
            "Train Epoch: 37 [28/145 (19%)]\tLoss: 0.144730\n",
            "Train Epoch: 37 [60/145 (41%)]\tLoss: 0.424203\n",
            "Train Epoch: 37 [92/145 (62%)]\tLoss: 0.133755\n",
            "Train Epoch: 37 [124/145 (84%)]\tLoss: 0.800415\n",
            "tensor([[10, 18,  0],\n",
            "        [ 0, 28,  0],\n",
            "        [ 2, 15, 11]], device='cuda:0')\n",
            "\n",
            "Test set: Average loss: 0.3588, Accuracy: 49/84 (58%)\n",
            "max acc = 84.52380952380952\n",
            "epoch time = 0:01:15.650614 \n",
            "\n",
            "Adjusting learning rate of group 0 to 2.0276e-03.\n",
            "Train Epoch: 38 [28/145 (19%)]\tLoss: 0.407108\n",
            "Train Epoch: 38 [60/145 (41%)]\tLoss: 0.210728\n",
            "Train Epoch: 38 [92/145 (62%)]\tLoss: 0.033644\n",
            "Train Epoch: 38 [124/145 (84%)]\tLoss: 0.450439\n",
            "tensor([[22,  2,  4],\n",
            "        [ 0, 28,  0],\n",
            "        [ 4,  5, 19]], device='cuda:0')\n",
            "\n",
            "Test set: Average loss: 0.1698, Accuracy: 69/84 (82%)\n",
            "max acc = 84.52380952380952\n",
            "epoch time = 0:01:15.678241 \n",
            "\n",
            "Adjusting learning rate of group 0 to 1.8248e-03.\n",
            "Train Epoch: 39 [28/145 (19%)]\tLoss: 0.069204\n",
            "Train Epoch: 39 [60/145 (41%)]\tLoss: 0.745117\n",
            "Train Epoch: 39 [92/145 (62%)]\tLoss: 0.313477\n",
            "Train Epoch: 39 [124/145 (84%)]\tLoss: 0.281940\n",
            "tensor([[21,  2,  5],\n",
            "        [ 0, 28,  0],\n",
            "        [ 0,  5, 23]], device='cuda:0')\n",
            "\n",
            "Test set: Average loss: 0.1222, Accuracy: 72/84 (86%)\n",
            "max acc = 85.71428571428571\n",
            "epoch time = 0:01:15.603475 \n",
            "\n",
            "Adjusting learning rate of group 0 to 1.6423e-03.\n",
            "Train Epoch: 40 [28/145 (19%)]\tLoss: 0.231995\n",
            "Train Epoch: 40 [60/145 (41%)]\tLoss: 0.057961\n",
            "Train Epoch: 40 [92/145 (62%)]\tLoss: 0.111801\n",
            "Train Epoch: 40 [124/145 (84%)]\tLoss: 0.187432\n",
            "tensor([[22,  2,  4],\n",
            "        [ 0, 28,  0],\n",
            "        [ 4,  5, 19]], device='cuda:0')\n",
            "\n",
            "Test set: Average loss: 0.1295, Accuracy: 69/84 (82%)\n",
            "max acc = 85.71428571428571\n",
            "epoch time = 0:01:15.751231 \n",
            "\n",
            "Adjusting learning rate of group 0 to 1.4781e-03.\n",
            "Train Epoch: 41 [28/145 (19%)]\tLoss: 0.106899\n",
            "Train Epoch: 41 [60/145 (41%)]\tLoss: 0.616638\n",
            "Train Epoch: 41 [92/145 (62%)]\tLoss: 0.129299\n",
            "Train Epoch: 41 [124/145 (84%)]\tLoss: 1.127411\n",
            "tensor([[22,  2,  4],\n",
            "        [ 0, 28,  0],\n",
            "        [ 4,  5, 19]], device='cuda:0')\n",
            "\n",
            "Test set: Average loss: 0.1168, Accuracy: 69/84 (82%)\n",
            "max acc = 85.71428571428571\n",
            "epoch time = 0:01:15.698577 \n",
            "\n",
            "Adjusting learning rate of group 0 to 1.3303e-03.\n",
            "Train Epoch: 42 [28/145 (19%)]\tLoss: 0.686554\n",
            "Train Epoch: 42 [60/145 (41%)]\tLoss: 1.452881\n",
            "Train Epoch: 42 [92/145 (62%)]\tLoss: 0.245384\n",
            "Train Epoch: 42 [124/145 (84%)]\tLoss: 0.064152\n",
            "tensor([[21,  2,  5],\n",
            "        [ 0, 28,  0],\n",
            "        [ 4,  5, 19]], device='cuda:0')\n",
            "\n",
            "Test set: Average loss: 0.1182, Accuracy: 68/84 (81%)\n",
            "max acc = 85.71428571428571\n",
            "epoch time = 0:01:15.992142 \n",
            "\n",
            "Adjusting learning rate of group 0 to 1.1973e-03.\n",
            "Train Epoch: 43 [28/145 (19%)]\tLoss: 0.488838\n",
            "Train Epoch: 43 [60/145 (41%)]\tLoss: 0.151245\n",
            "Train Epoch: 43 [92/145 (62%)]\tLoss: 0.174885\n",
            "Train Epoch: 43 [124/145 (84%)]\tLoss: 0.219116\n",
            "tensor([[24,  2,  2],\n",
            "        [ 0, 28,  0],\n",
            "        [ 2,  5, 21]], device='cuda:0')\n",
            "\n",
            "Test set: Average loss: 0.1137, Accuracy: 73/84 (87%)\n",
            "max acc = 86.9047619047619\n",
            "epoch time = 0:01:15.681549 \n",
            "\n",
            "Adjusting learning rate of group 0 to 1.0775e-03.\n",
            "Train Epoch: 44 [28/145 (19%)]\tLoss: 0.039843\n",
            "Train Epoch: 44 [60/145 (41%)]\tLoss: 0.065544\n",
            "Train Epoch: 44 [92/145 (62%)]\tLoss: 0.041512\n",
            "Train Epoch: 44 [124/145 (84%)]\tLoss: 0.289139\n",
            "tensor([[20,  2,  6],\n",
            "        [ 0, 28,  0],\n",
            "        [ 0,  4, 24]], device='cuda:0')\n",
            "\n",
            "Test set: Average loss: 0.1143, Accuracy: 72/84 (86%)\n",
            "max acc = 86.9047619047619\n",
            "epoch time = 0:01:15.706566 \n",
            "\n",
            "Adjusting learning rate of group 0 to 9.6977e-04.\n",
            "Train Epoch: 45 [28/145 (19%)]\tLoss: 0.194214\n",
            "Train Epoch: 45 [60/145 (41%)]\tLoss: 0.101501\n",
            "Train Epoch: 45 [92/145 (62%)]\tLoss: 0.411148\n",
            "Train Epoch: 45 [124/145 (84%)]\tLoss: 0.103497\n",
            "tensor([[22,  2,  4],\n",
            "        [ 0, 28,  0],\n",
            "        [ 2,  6, 20]], device='cuda:0')\n",
            "\n",
            "Test set: Average loss: 0.1340, Accuracy: 70/84 (83%)\n",
            "max acc = 86.9047619047619\n",
            "epoch time = 0:01:15.693993 \n",
            "\n",
            "Adjusting learning rate of group 0 to 8.7280e-04.\n",
            "Train Epoch: 46 [28/145 (19%)]\tLoss: 0.296585\n",
            "Train Epoch: 46 [60/145 (41%)]\tLoss: 0.063861\n",
            "Train Epoch: 46 [92/145 (62%)]\tLoss: 0.940392\n",
            "Train Epoch: 46 [124/145 (84%)]\tLoss: 0.272930\n",
            "tensor([[22,  2,  4],\n",
            "        [ 0, 28,  0],\n",
            "        [ 0,  6, 22]], device='cuda:0')\n",
            "\n",
            "Test set: Average loss: 0.1232, Accuracy: 72/84 (86%)\n",
            "max acc = 86.9047619047619\n",
            "epoch time = 0:01:15.678709 \n",
            "\n",
            "Adjusting learning rate of group 0 to 7.8552e-04.\n",
            "Train Epoch: 47 [28/145 (19%)]\tLoss: 0.154991\n",
            "Train Epoch: 47 [60/145 (41%)]\tLoss: 0.255417\n",
            "Train Epoch: 47 [92/145 (62%)]\tLoss: 0.082497\n",
            "Train Epoch: 47 [124/145 (84%)]\tLoss: 0.248367\n",
            "tensor([[21,  2,  5],\n",
            "        [ 0, 28,  0],\n",
            "        [ 0,  5, 23]], device='cuda:0')\n",
            "\n",
            "Test set: Average loss: 0.1072, Accuracy: 72/84 (86%)\n",
            "max acc = 86.9047619047619\n",
            "epoch time = 0:01:15.788087 \n",
            "\n",
            "Adjusting learning rate of group 0 to 7.0697e-04.\n",
            "Train Epoch: 48 [28/145 (19%)]\tLoss: 0.558105\n",
            "Train Epoch: 48 [60/145 (41%)]\tLoss: 0.261726\n",
            "Train Epoch: 48 [92/145 (62%)]\tLoss: 0.275913\n",
            "Train Epoch: 48 [124/145 (84%)]\tLoss: 0.270203\n",
            "tensor([[20,  2,  6],\n",
            "        [ 0, 28,  0],\n",
            "        [ 1,  6, 21]], device='cuda:0')\n",
            "\n",
            "Test set: Average loss: 0.1150, Accuracy: 69/84 (82%)\n",
            "max acc = 86.9047619047619\n",
            "epoch time = 0:01:15.731756 \n",
            "\n",
            "Adjusting learning rate of group 0 to 6.3627e-04.\n",
            "Train Epoch: 49 [28/145 (19%)]\tLoss: 0.085960\n",
            "Train Epoch: 49 [60/145 (41%)]\tLoss: 0.036398\n",
            "Train Epoch: 49 [92/145 (62%)]\tLoss: 0.743866\n",
            "Train Epoch: 49 [124/145 (84%)]\tLoss: 0.091347\n",
            "tensor([[20,  2,  6],\n",
            "        [ 0, 28,  0],\n",
            "        [ 0,  5, 23]], device='cuda:0')\n",
            "\n",
            "Test set: Average loss: 0.1115, Accuracy: 71/84 (85%)\n",
            "max acc = 86.9047619047619\n",
            "epoch time = 0:01:15.721200 \n",
            "\n",
            "Adjusting learning rate of group 0 to 5.7264e-04.\n",
            "Train Epoch: 50 [28/145 (19%)]\tLoss: 0.033773\n",
            "Train Epoch: 50 [60/145 (41%)]\tLoss: 0.079514\n",
            "Train Epoch: 50 [92/145 (62%)]\tLoss: 0.756134\n",
            "Train Epoch: 50 [124/145 (84%)]\tLoss: 0.109825\n",
            "tensor([[25,  2,  1],\n",
            "        [ 0, 28,  0],\n",
            "        [ 2,  6, 20]], device='cuda:0')\n",
            "\n",
            "Test set: Average loss: 0.1252, Accuracy: 73/84 (87%)\n",
            "max acc = 86.9047619047619\n",
            "epoch time = 0:01:15.684077 \n",
            "\n",
            "Adjusting learning rate of group 0 to 5.1538e-04.\n",
            "Train Epoch: 51 [28/145 (19%)]\tLoss: 0.273895\n",
            "Train Epoch: 51 [60/145 (41%)]\tLoss: 0.220627\n",
            "Train Epoch: 51 [92/145 (62%)]\tLoss: 0.088722\n",
            "Train Epoch: 51 [124/145 (84%)]\tLoss: 0.232025\n",
            "tensor([[23,  1,  4],\n",
            "        [ 3, 25,  0],\n",
            "        [ 4,  5, 19]], device='cuda:0')\n",
            "\n",
            "Test set: Average loss: 0.1174, Accuracy: 67/84 (80%)\n",
            "max acc = 86.9047619047619\n",
            "epoch time = 0:01:15.739816 \n",
            "\n",
            "Adjusting learning rate of group 0 to 4.6384e-04.\n",
            "Train Epoch: 52 [28/145 (19%)]\tLoss: 0.220894\n",
            "Train Epoch: 52 [60/145 (41%)]\tLoss: 0.105103\n",
            "Train Epoch: 52 [92/145 (62%)]\tLoss: 0.150417\n",
            "Train Epoch: 52 [124/145 (84%)]\tLoss: 0.246643\n",
            "tensor([[22,  2,  4],\n",
            "        [ 0, 28,  0],\n",
            "        [ 4,  4, 20]], device='cuda:0')\n",
            "\n",
            "Test set: Average loss: 0.0937, Accuracy: 70/84 (83%)\n",
            "max acc = 86.9047619047619\n",
            "epoch time = 0:01:15.817314 \n",
            "\n",
            "Adjusting learning rate of group 0 to 4.1746e-04.\n",
            "Train Epoch: 53 [28/145 (19%)]\tLoss: 0.304230\n",
            "Train Epoch: 53 [60/145 (41%)]\tLoss: 0.079147\n",
            "Train Epoch: 53 [92/145 (62%)]\tLoss: 0.120041\n",
            "Train Epoch: 53 [124/145 (84%)]\tLoss: 0.267632\n",
            "tensor([[20,  2,  6],\n",
            "        [ 1, 27,  0],\n",
            "        [ 0,  4, 24]], device='cuda:0')\n",
            "\n",
            "Test set: Average loss: 0.1010, Accuracy: 71/84 (85%)\n",
            "max acc = 86.9047619047619\n",
            "epoch time = 0:01:15.743419 \n",
            "\n",
            "Adjusting learning rate of group 0 to 3.7571e-04.\n",
            "Train Epoch: 54 [28/145 (19%)]\tLoss: 0.714447\n",
            "Train Epoch: 54 [60/145 (41%)]\tLoss: 0.165592\n",
            "Train Epoch: 54 [92/145 (62%)]\tLoss: 0.619759\n",
            "Train Epoch: 54 [124/145 (84%)]\tLoss: 0.332581\n",
            "tensor([[20,  2,  6],\n",
            "        [ 0, 28,  0],\n",
            "        [ 0,  4, 24]], device='cuda:0')\n",
            "\n",
            "Test set: Average loss: 0.1327, Accuracy: 72/84 (86%)\n",
            "max acc = 86.9047619047619\n",
            "epoch time = 0:01:15.929971 \n",
            "\n",
            "Adjusting learning rate of group 0 to 3.3814e-04.\n",
            "Train Epoch: 55 [28/145 (19%)]\tLoss: 0.386833\n",
            "Train Epoch: 55 [60/145 (41%)]\tLoss: 0.490601\n",
            "Train Epoch: 55 [92/145 (62%)]\tLoss: 0.486969\n",
            "Train Epoch: 55 [124/145 (84%)]\tLoss: 0.090862\n",
            "tensor([[22,  2,  4],\n",
            "        [ 0, 28,  0],\n",
            "        [ 0,  4, 24]], device='cuda:0')\n",
            "\n",
            "Test set: Average loss: 0.1135, Accuracy: 74/84 (88%)\n",
            "max acc = 88.0952380952381\n",
            "epoch time = 0:01:15.721730 \n",
            "\n",
            "Adjusting learning rate of group 0 to 3.0433e-04.\n",
            "Train Epoch: 56 [28/145 (19%)]\tLoss: 0.283672\n",
            "Train Epoch: 56 [60/145 (41%)]\tLoss: 0.107834\n",
            "Train Epoch: 56 [92/145 (62%)]\tLoss: 0.197006\n",
            "Train Epoch: 56 [124/145 (84%)]\tLoss: 0.091809\n",
            "tensor([[20,  2,  6],\n",
            "        [ 0, 28,  0],\n",
            "        [ 0,  6, 22]], device='cuda:0')\n",
            "\n",
            "Test set: Average loss: 0.1162, Accuracy: 70/84 (83%)\n",
            "max acc = 88.0952380952381\n",
            "epoch time = 0:01:15.639940 \n",
            "\n",
            "Adjusting learning rate of group 0 to 2.7389e-04.\n",
            "Train Epoch: 57 [28/145 (19%)]\tLoss: 0.363716\n",
            "Train Epoch: 57 [60/145 (41%)]\tLoss: 0.094604\n",
            "Train Epoch: 57 [92/145 (62%)]\tLoss: 0.289583\n",
            "Train Epoch: 57 [124/145 (84%)]\tLoss: 0.275993\n",
            "tensor([[22,  2,  4],\n",
            "        [ 2, 26,  0],\n",
            "        [ 4,  4, 20]], device='cuda:0')\n",
            "\n",
            "Test set: Average loss: 0.1173, Accuracy: 68/84 (81%)\n",
            "max acc = 88.0952380952381\n",
            "epoch time = 0:01:15.749326 \n",
            "\n",
            "Adjusting learning rate of group 0 to 2.4650e-04.\n",
            "Train Epoch: 58 [28/145 (19%)]\tLoss: 0.371986\n",
            "Train Epoch: 58 [60/145 (41%)]\tLoss: 0.121498\n",
            "Train Epoch: 58 [92/145 (62%)]\tLoss: 0.177750\n",
            "Train Epoch: 58 [124/145 (84%)]\tLoss: 0.445618\n",
            "tensor([[22,  2,  4],\n",
            "        [ 0, 28,  0],\n",
            "        [ 2,  4, 22]], device='cuda:0')\n",
            "\n",
            "Test set: Average loss: 0.1056, Accuracy: 72/84 (86%)\n",
            "max acc = 88.0952380952381\n",
            "epoch time = 0:01:15.680926 \n",
            "\n",
            "Adjusting learning rate of group 0 to 2.2185e-04.\n",
            "Train Epoch: 59 [28/145 (19%)]\tLoss: 0.476830\n",
            "Train Epoch: 59 [60/145 (41%)]\tLoss: 0.206747\n",
            "Train Epoch: 59 [92/145 (62%)]\tLoss: 0.277237\n",
            "Train Epoch: 59 [124/145 (84%)]\tLoss: 0.122801\n",
            "tensor([[22,  2,  4],\n",
            "        [ 1, 27,  0],\n",
            "        [ 2,  5, 21]], device='cuda:0')\n",
            "\n",
            "Test set: Average loss: 0.1000, Accuracy: 70/84 (83%)\n",
            "max acc = 88.0952380952381\n",
            "epoch time = 0:01:15.865827 \n",
            "\n",
            "Adjusting learning rate of group 0 to 1.9967e-04.\n",
            "Train Epoch: 60 [28/145 (19%)]\tLoss: 0.052036\n",
            "Train Epoch: 60 [60/145 (41%)]\tLoss: 0.037325\n",
            "Train Epoch: 60 [92/145 (62%)]\tLoss: 0.323029\n",
            "Train Epoch: 60 [124/145 (84%)]\tLoss: 0.207791\n",
            "tensor([[22,  2,  4],\n",
            "        [ 1, 27,  0],\n",
            "        [ 2,  6, 20]], device='cuda:0')\n",
            "\n",
            "Test set: Average loss: 0.1016, Accuracy: 69/84 (82%)\n",
            "max acc = 88.0952380952381\n",
            "epoch time = 0:01:15.755018 \n",
            "\n",
            "Adjusting learning rate of group 0 to 1.7970e-04.\n",
            "Train Epoch: 61 [28/145 (19%)]\tLoss: 0.174454\n",
            "Train Epoch: 61 [60/145 (41%)]\tLoss: 0.049900\n",
            "Train Epoch: 61 [92/145 (62%)]\tLoss: 0.398716\n",
            "Train Epoch: 61 [124/145 (84%)]\tLoss: 0.091608\n",
            "tensor([[22,  2,  4],\n",
            "        [ 0, 28,  0],\n",
            "        [ 2,  5, 21]], device='cuda:0')\n",
            "\n",
            "Test set: Average loss: 0.1107, Accuracy: 71/84 (85%)\n",
            "max acc = 88.0952380952381\n",
            "epoch time = 0:01:15.684617 \n",
            "\n",
            "Adjusting learning rate of group 0 to 1.6173e-04.\n",
            "Train Epoch: 62 [28/145 (19%)]\tLoss: 0.854980\n",
            "Train Epoch: 62 [60/145 (41%)]\tLoss: 0.201912\n",
            "Train Epoch: 62 [92/145 (62%)]\tLoss: 0.204609\n",
            "Train Epoch: 62 [124/145 (84%)]\tLoss: 0.253483\n",
            "tensor([[22,  2,  4],\n",
            "        [ 0, 28,  0],\n",
            "        [ 1,  4, 23]], device='cuda:0')\n",
            "\n",
            "Test set: Average loss: 0.1042, Accuracy: 73/84 (87%)\n",
            "max acc = 88.0952380952381\n",
            "epoch time = 0:01:15.713467 \n",
            "\n",
            "Adjusting learning rate of group 0 to 1.4556e-04.\n",
            "Train Epoch: 63 [28/145 (19%)]\tLoss: 0.187744\n",
            "Train Epoch: 63 [60/145 (41%)]\tLoss: 0.321542\n",
            "Train Epoch: 63 [92/145 (62%)]\tLoss: 0.113222\n",
            "Train Epoch: 63 [124/145 (84%)]\tLoss: 0.119278\n",
            "tensor([[22,  2,  4],\n",
            "        [ 0, 28,  0],\n",
            "        [ 2,  5, 21]], device='cuda:0')\n",
            "\n",
            "Test set: Average loss: 0.1241, Accuracy: 71/84 (85%)\n",
            "max acc = 88.0952380952381\n",
            "epoch time = 0:01:15.716212 \n",
            "\n",
            "Adjusting learning rate of group 0 to 1.3100e-04.\n",
            "Train Epoch: 64 [28/145 (19%)]\tLoss: 0.673111\n",
            "Train Epoch: 64 [60/145 (41%)]\tLoss: 0.479645\n",
            "Train Epoch: 64 [92/145 (62%)]\tLoss: 0.446136\n",
            "Train Epoch: 64 [124/145 (84%)]\tLoss: 0.106680\n",
            "tensor([[22,  2,  4],\n",
            "        [ 0, 28,  0],\n",
            "        [ 4,  4, 20]], device='cuda:0')\n",
            "\n",
            "Test set: Average loss: 0.1153, Accuracy: 70/84 (83%)\n",
            "max acc = 88.0952380952381\n",
            "epoch time = 0:01:15.762524 \n",
            "\n",
            "Adjusting learning rate of group 0 to 1.1790e-04.\n",
            "Train Epoch: 65 [28/145 (19%)]\tLoss: 0.493652\n",
            "Train Epoch: 65 [60/145 (41%)]\tLoss: 0.487877\n",
            "Train Epoch: 65 [92/145 (62%)]\tLoss: 0.283112\n",
            "Train Epoch: 65 [124/145 (84%)]\tLoss: 0.341187\n",
            "tensor([[22,  2,  4],\n",
            "        [ 0, 28,  0],\n",
            "        [ 2,  5, 21]], device='cuda:0')\n",
            "\n",
            "Test set: Average loss: 0.1202, Accuracy: 71/84 (85%)\n",
            "max acc = 88.0952380952381\n",
            "epoch time = 0:01:15.746777 \n",
            "\n",
            "Adjusting learning rate of group 0 to 1.0611e-04.\n",
            "Train Epoch: 66 [28/145 (19%)]\tLoss: 0.375376\n",
            "Train Epoch: 66 [60/145 (41%)]\tLoss: 0.129181\n",
            "Train Epoch: 66 [92/145 (62%)]\tLoss: 0.051453\n",
            "Train Epoch: 66 [124/145 (84%)]\tLoss: 0.112735\n",
            "tensor([[22,  2,  4],\n",
            "        [ 1, 27,  0],\n",
            "        [ 2,  6, 20]], device='cuda:0')\n",
            "\n",
            "Test set: Average loss: 0.1091, Accuracy: 69/84 (82%)\n",
            "max acc = 88.0952380952381\n",
            "epoch time = 0:01:15.645596 \n",
            "\n",
            "Adjusting learning rate of group 0 to 9.5500e-05.\n",
            "Train Epoch: 67 [28/145 (19%)]\tLoss: 0.170105\n",
            "Train Epoch: 67 [60/145 (41%)]\tLoss: 0.119062\n",
            "Train Epoch: 67 [92/145 (62%)]\tLoss: 0.134773\n",
            "Train Epoch: 67 [124/145 (84%)]\tLoss: 0.055425\n",
            "tensor([[22,  2,  4],\n",
            "        [ 0, 28,  0],\n",
            "        [ 2,  6, 20]], device='cuda:0')\n",
            "\n",
            "Test set: Average loss: 0.1189, Accuracy: 70/84 (83%)\n",
            "max acc = 88.0952380952381\n",
            "epoch time = 0:01:15.649630 \n",
            "\n",
            "Adjusting learning rate of group 0 to 8.5950e-05.\n",
            "Train Epoch: 68 [28/145 (19%)]\tLoss: 0.038364\n",
            "Train Epoch: 68 [60/145 (41%)]\tLoss: 1.499023\n",
            "Train Epoch: 68 [92/145 (62%)]\tLoss: 0.290924\n",
            "Train Epoch: 68 [124/145 (84%)]\tLoss: 0.157925\n",
            "tensor([[22,  2,  4],\n",
            "        [ 0, 28,  0],\n",
            "        [ 2,  5, 21]], device='cuda:0')\n",
            "\n",
            "Test set: Average loss: 0.1137, Accuracy: 71/84 (85%)\n",
            "max acc = 88.0952380952381\n",
            "epoch time = 0:01:15.608238 \n",
            "\n",
            "Adjusting learning rate of group 0 to 7.7355e-05.\n",
            "Train Epoch: 69 [28/145 (19%)]\tLoss: 0.153793\n",
            "Train Epoch: 69 [60/145 (41%)]\tLoss: 0.949375\n",
            "Train Epoch: 69 [92/145 (62%)]\tLoss: 1.734985\n",
            "Train Epoch: 69 [124/145 (84%)]\tLoss: 0.073349\n",
            "tensor([[20,  2,  6],\n",
            "        [ 0, 28,  0],\n",
            "        [ 0,  5, 23]], device='cuda:0')\n",
            "\n",
            "Test set: Average loss: 0.1086, Accuracy: 71/84 (85%)\n",
            "max acc = 88.0952380952381\n",
            "epoch time = 0:01:15.687664 \n",
            "\n",
            "Adjusting learning rate of group 0 to 6.9620e-05.\n",
            "Train Epoch: 70 [28/145 (19%)]\tLoss: 0.609436\n",
            "Train Epoch: 70 [60/145 (41%)]\tLoss: 0.608223\n",
            "Train Epoch: 70 [92/145 (62%)]\tLoss: 0.121056\n",
            "Train Epoch: 70 [124/145 (84%)]\tLoss: 0.138699\n",
            "tensor([[22,  2,  4],\n",
            "        [ 0, 28,  0],\n",
            "        [ 2,  4, 22]], device='cuda:0')\n",
            "\n",
            "Test set: Average loss: 0.1145, Accuracy: 72/84 (86%)\n",
            "max acc = 88.0952380952381\n",
            "epoch time = 0:01:15.645105 \n",
            "\n",
            "Adjusting learning rate of group 0 to 6.2658e-05.\n",
            "Train Epoch: 71 [28/145 (19%)]\tLoss: 0.061001\n",
            "Train Epoch: 71 [60/145 (41%)]\tLoss: 0.712738\n",
            "Train Epoch: 71 [92/145 (62%)]\tLoss: 0.094288\n",
            "Train Epoch: 71 [124/145 (84%)]\tLoss: 0.207516\n",
            "tensor([[21,  2,  5],\n",
            "        [ 0, 28,  0],\n",
            "        [ 0,  5, 23]], device='cuda:0')\n",
            "\n",
            "Test set: Average loss: 0.1333, Accuracy: 72/84 (86%)\n",
            "max acc = 88.0952380952381\n",
            "epoch time = 0:01:15.606114 \n",
            "\n",
            "Adjusting learning rate of group 0 to 5.6392e-05.\n",
            "Train Epoch: 72 [28/145 (19%)]\tLoss: 0.586952\n",
            "Train Epoch: 72 [60/145 (41%)]\tLoss: 0.154701\n",
            "Train Epoch: 72 [92/145 (62%)]\tLoss: 0.185722\n",
            "Train Epoch: 72 [124/145 (84%)]\tLoss: 0.113708\n",
            "tensor([[22,  2,  4],\n",
            "        [ 2, 26,  0],\n",
            "        [ 0,  5, 23]], device='cuda:0')\n",
            "\n",
            "Test set: Average loss: 0.1063, Accuracy: 71/84 (85%)\n",
            "max acc = 88.0952380952381\n",
            "epoch time = 0:01:15.593978 \n",
            "\n",
            "Adjusting learning rate of group 0 to 5.0753e-05.\n",
            "Train Epoch: 73 [28/145 (19%)]\tLoss: 0.267097\n",
            "Train Epoch: 73 [60/145 (41%)]\tLoss: 0.102123\n",
            "Train Epoch: 73 [92/145 (62%)]\tLoss: 0.272224\n",
            "Train Epoch: 73 [124/145 (84%)]\tLoss: 1.054631\n",
            "tensor([[22,  2,  4],\n",
            "        [ 0, 28,  0],\n",
            "        [ 0,  4, 24]], device='cuda:0')\n",
            "\n",
            "Test set: Average loss: 0.1148, Accuracy: 74/84 (88%)\n",
            "max acc = 88.0952380952381\n",
            "epoch time = 0:01:15.619701 \n",
            "\n",
            "Adjusting learning rate of group 0 to 4.5678e-05.\n",
            "Train Epoch: 74 [28/145 (19%)]\tLoss: 0.097866\n",
            "Train Epoch: 74 [60/145 (41%)]\tLoss: 0.257965\n",
            "Train Epoch: 74 [92/145 (62%)]\tLoss: 0.352280\n",
            "Train Epoch: 74 [124/145 (84%)]\tLoss: 0.477261\n",
            "tensor([[20,  2,  6],\n",
            "        [ 0, 28,  0],\n",
            "        [ 0,  5, 23]], device='cuda:0')\n",
            "\n",
            "Test set: Average loss: 0.1249, Accuracy: 71/84 (85%)\n",
            "max acc = 88.0952380952381\n",
            "epoch time = 0:01:15.602113 \n",
            "\n",
            "Adjusting learning rate of group 0 to 4.1110e-05.\n",
            "Train Epoch: 75 [28/145 (19%)]\tLoss: 0.131151\n",
            "Train Epoch: 75 [60/145 (41%)]\tLoss: 0.464203\n",
            "Train Epoch: 75 [92/145 (62%)]\tLoss: 0.108219\n",
            "Train Epoch: 75 [124/145 (84%)]\tLoss: 0.195190\n",
            "tensor([[20,  2,  6],\n",
            "        [ 2, 26,  0],\n",
            "        [ 2,  5, 21]], device='cuda:0')\n",
            "\n",
            "Test set: Average loss: 0.1071, Accuracy: 67/84 (80%)\n",
            "max acc = 88.0952380952381\n",
            "epoch time = 0:01:15.669330 \n",
            "\n",
            "Adjusting learning rate of group 0 to 3.6999e-05.\n",
            "Train Epoch: 76 [28/145 (19%)]\tLoss: 0.407867\n",
            "Train Epoch: 76 [60/145 (41%)]\tLoss: 0.076095\n",
            "Train Epoch: 76 [92/145 (62%)]\tLoss: 0.235229\n",
            "Train Epoch: 76 [124/145 (84%)]\tLoss: 0.358200\n",
            "tensor([[22,  2,  4],\n",
            "        [ 1, 27,  0],\n",
            "        [ 4,  4, 20]], device='cuda:0')\n",
            "\n",
            "Test set: Average loss: 0.1029, Accuracy: 69/84 (82%)\n",
            "max acc = 88.0952380952381\n",
            "epoch time = 0:01:15.657450 \n",
            "\n",
            "Adjusting learning rate of group 0 to 3.3299e-05.\n",
            "Train Epoch: 77 [28/145 (19%)]\tLoss: 0.154877\n",
            "Train Epoch: 77 [60/145 (41%)]\tLoss: 0.083300\n",
            "Train Epoch: 77 [92/145 (62%)]\tLoss: 0.464439\n",
            "Train Epoch: 77 [124/145 (84%)]\tLoss: 0.084042\n",
            "tensor([[22,  2,  4],\n",
            "        [ 0, 28,  0],\n",
            "        [ 2,  5, 21]], device='cuda:0')\n",
            "\n",
            "Test set: Average loss: 0.1102, Accuracy: 71/84 (85%)\n",
            "max acc = 88.0952380952381\n",
            "epoch time = 0:01:15.655611 \n",
            "\n",
            "Adjusting learning rate of group 0 to 2.9969e-05.\n",
            "Train Epoch: 78 [28/145 (19%)]\tLoss: 0.151085\n",
            "Train Epoch: 78 [60/145 (41%)]\tLoss: 0.323921\n",
            "Train Epoch: 78 [92/145 (62%)]\tLoss: 0.724945\n",
            "Train Epoch: 78 [124/145 (84%)]\tLoss: 0.088802\n",
            "tensor([[22,  2,  4],\n",
            "        [ 0, 28,  0],\n",
            "        [ 2,  5, 21]], device='cuda:0')\n",
            "\n",
            "Test set: Average loss: 0.1160, Accuracy: 71/84 (85%)\n",
            "max acc = 88.0952380952381\n",
            "epoch time = 0:01:15.726317 \n",
            "\n",
            "Adjusting learning rate of group 0 to 2.6972e-05.\n",
            "Train Epoch: 79 [28/145 (19%)]\tLoss: 0.752068\n",
            "Train Epoch: 79 [60/145 (41%)]\tLoss: 0.256493\n",
            "Train Epoch: 79 [92/145 (62%)]\tLoss: 0.184204\n",
            "Train Epoch: 79 [124/145 (84%)]\tLoss: 0.125549\n",
            "tensor([[20,  2,  6],\n",
            "        [ 3, 25,  0],\n",
            "        [ 3,  6, 19]], device='cuda:0')\n",
            "\n",
            "Test set: Average loss: 0.1042, Accuracy: 64/84 (76%)\n",
            "max acc = 88.0952380952381\n",
            "epoch time = 0:01:15.601738 \n",
            "\n",
            "Adjusting learning rate of group 0 to 2.4275e-05.\n",
            "Train Epoch: 80 [28/145 (19%)]\tLoss: 0.261917\n",
            "Train Epoch: 80 [60/145 (41%)]\tLoss: 0.069435\n",
            "Train Epoch: 80 [92/145 (62%)]\tLoss: 0.236160\n",
            "Train Epoch: 80 [124/145 (84%)]\tLoss: 0.125229\n",
            "tensor([[19,  2,  7],\n",
            "        [ 2, 26,  0],\n",
            "        [ 2,  5, 21]], device='cuda:0')\n",
            "\n",
            "Test set: Average loss: 0.1104, Accuracy: 66/84 (79%)\n",
            "max acc = 88.0952380952381\n",
            "epoch time = 0:01:15.715918 \n",
            "\n",
            "Adjusting learning rate of group 0 to 2.1847e-05.\n",
            "Train Epoch: 81 [28/145 (19%)]\tLoss: 0.100052\n",
            "Train Epoch: 81 [60/145 (41%)]\tLoss: 1.051201\n",
            "Train Epoch: 81 [92/145 (62%)]\tLoss: 0.634302\n",
            "Train Epoch: 81 [124/145 (84%)]\tLoss: 0.300613\n",
            "tensor([[22,  2,  4],\n",
            "        [ 0, 28,  0],\n",
            "        [ 3,  5, 20]], device='cuda:0')\n",
            "\n",
            "Test set: Average loss: 0.1198, Accuracy: 70/84 (83%)\n",
            "max acc = 88.0952380952381\n",
            "epoch time = 0:01:15.731576 \n",
            "\n",
            "Adjusting learning rate of group 0 to 1.9663e-05.\n",
            "Train Epoch: 82 [28/145 (19%)]\tLoss: 0.036121\n",
            "Train Epoch: 82 [60/145 (41%)]\tLoss: 0.566513\n",
            "Train Epoch: 82 [92/145 (62%)]\tLoss: 0.140812\n",
            "Train Epoch: 82 [124/145 (84%)]\tLoss: 0.123123\n",
            "tensor([[21,  2,  5],\n",
            "        [ 4, 24,  0],\n",
            "        [ 4,  5, 19]], device='cuda:0')\n",
            "\n",
            "Test set: Average loss: 0.1176, Accuracy: 64/84 (76%)\n",
            "max acc = 88.0952380952381\n",
            "epoch time = 0:01:15.682070 \n",
            "\n",
            "Adjusting learning rate of group 0 to 1.7696e-05.\n",
            "Train Epoch: 83 [28/145 (19%)]\tLoss: 0.110096\n",
            "Train Epoch: 83 [60/145 (41%)]\tLoss: 0.272736\n",
            "Train Epoch: 83 [92/145 (62%)]\tLoss: 0.077721\n",
            "Train Epoch: 83 [124/145 (84%)]\tLoss: 0.247452\n",
            "tensor([[22,  2,  4],\n",
            "        [ 1, 27,  0],\n",
            "        [ 4,  5, 19]], device='cuda:0')\n",
            "\n",
            "Test set: Average loss: 0.1143, Accuracy: 68/84 (81%)\n",
            "max acc = 88.0952380952381\n",
            "epoch time = 0:01:15.756705 \n",
            "\n",
            "Adjusting learning rate of group 0 to 1.5927e-05.\n",
            "Train Epoch: 84 [28/145 (19%)]\tLoss: 0.185314\n",
            "Train Epoch: 84 [60/145 (41%)]\tLoss: 0.905457\n",
            "Train Epoch: 84 [92/145 (62%)]\tLoss: 0.608627\n",
            "Train Epoch: 84 [124/145 (84%)]\tLoss: 0.068745\n",
            "tensor([[22,  2,  4],\n",
            "        [ 0, 28,  0],\n",
            "        [ 2,  5, 21]], device='cuda:0')\n",
            "\n",
            "Test set: Average loss: 0.1264, Accuracy: 71/84 (85%)\n",
            "max acc = 88.0952380952381\n",
            "epoch time = 0:01:15.744504 \n",
            "\n",
            "Adjusting learning rate of group 0 to 1.4334e-05.\n",
            "Train Epoch: 85 [28/145 (19%)]\tLoss: 0.204170\n",
            "Train Epoch: 85 [60/145 (41%)]\tLoss: 0.099426\n",
            "Train Epoch: 85 [92/145 (62%)]\tLoss: 0.532211\n",
            "Train Epoch: 85 [124/145 (84%)]\tLoss: 0.121636\n",
            "tensor([[22,  2,  4],\n",
            "        [ 0, 28,  0],\n",
            "        [ 2,  6, 20]], device='cuda:0')\n",
            "\n",
            "Test set: Average loss: 0.1222, Accuracy: 70/84 (83%)\n",
            "max acc = 88.0952380952381\n",
            "epoch time = 0:01:15.665553 \n",
            "\n",
            "Adjusting learning rate of group 0 to 1.2901e-05.\n",
            "Train Epoch: 86 [28/145 (19%)]\tLoss: 0.483521\n"
          ]
        },
        {
          "output_type": "error",
          "ename": "KeyboardInterrupt",
          "evalue": "ignored",
          "traceback": [
            "\u001b[0;31m---------------------------------------------------------------------------\u001b[0m",
            "\u001b[0;31mKeyboardInterrupt\u001b[0m                         Traceback (most recent call last)",
            "\u001b[0;32m<ipython-input-20-21d294039f5b>\u001b[0m in \u001b[0;36m<module>\u001b[0;34m\u001b[0m\n\u001b[1;32m      3\u001b[0m \u001b[0;32mfor\u001b[0m \u001b[0mepoch\u001b[0m \u001b[0;32min\u001b[0m \u001b[0mrange\u001b[0m\u001b[0;34m(\u001b[0m\u001b[0;36m1\u001b[0m\u001b[0;34m,\u001b[0m \u001b[0mEPOCHS\u001b[0m \u001b[0;34m+\u001b[0m \u001b[0;36m1\u001b[0m\u001b[0;34m)\u001b[0m\u001b[0;34m:\u001b[0m\u001b[0;34m\u001b[0m\u001b[0;34m\u001b[0m\u001b[0m\n\u001b[1;32m      4\u001b[0m     \u001b[0mstart_time\u001b[0m \u001b[0;34m=\u001b[0m \u001b[0mdatetime\u001b[0m\u001b[0;34m.\u001b[0m\u001b[0mnow\u001b[0m\u001b[0;34m(\u001b[0m\u001b[0;34m)\u001b[0m\u001b[0;34m\u001b[0m\u001b[0;34m\u001b[0m\u001b[0m\n\u001b[0;32m----> 5\u001b[0;31m     \u001b[0mtrain\u001b[0m\u001b[0;34m(\u001b[0m\u001b[0mmodel\u001b[0m\u001b[0;34m,\u001b[0m \u001b[0mdevice\u001b[0m\u001b[0;34m,\u001b[0m \u001b[0mtrain_loader\u001b[0m\u001b[0;34m,\u001b[0m \u001b[0moptimizer\u001b[0m\u001b[0;34m,\u001b[0m \u001b[0mepoch\u001b[0m\u001b[0;34m,\u001b[0m \u001b[0mstats\u001b[0m\u001b[0;34m)\u001b[0m\u001b[0;34m\u001b[0m\u001b[0;34m\u001b[0m\u001b[0m\n\u001b[0m\u001b[1;32m      6\u001b[0m     \u001b[0mtest\u001b[0m\u001b[0;34m(\u001b[0m\u001b[0mmodel\u001b[0m\u001b[0;34m,\u001b[0m \u001b[0mdevice\u001b[0m\u001b[0;34m,\u001b[0m \u001b[0mtest_loader\u001b[0m\u001b[0;34m,\u001b[0m \u001b[0mstats\u001b[0m\u001b[0;34m,\u001b[0m \u001b[0mSAVE_CHECKPOINTS\u001b[0m\u001b[0;34m)\u001b[0m\u001b[0;34m\u001b[0m\u001b[0;34m\u001b[0m\u001b[0m\n\u001b[1;32m      7\u001b[0m     \u001b[0mprint\u001b[0m\u001b[0;34m(\u001b[0m\u001b[0;34mf\"max acc = {stats.max_acc}\"\u001b[0m\u001b[0;34m)\u001b[0m\u001b[0;34m\u001b[0m\u001b[0;34m\u001b[0m\u001b[0m\n",
            "\u001b[0;32m<ipython-input-18-b4af3fa2c400>\u001b[0m in \u001b[0;36mtrain\u001b[0;34m(model, device, train_loader, optimizer, epoch, stats)\u001b[0m\n\u001b[1;32m     17\u001b[0m \u001b[0;34m\u001b[0m\u001b[0m\n\u001b[1;32m     18\u001b[0m         \u001b[0;31m# Accumulates scaled gradients.\u001b[0m\u001b[0;34m\u001b[0m\u001b[0;34m\u001b[0m\u001b[0;34m\u001b[0m\u001b[0m\n\u001b[0;32m---> 19\u001b[0;31m         \u001b[0mscaler\u001b[0m\u001b[0;34m.\u001b[0m\u001b[0mscale\u001b[0m\u001b[0;34m(\u001b[0m\u001b[0mloss\u001b[0m\u001b[0;34m)\u001b[0m\u001b[0;34m.\u001b[0m\u001b[0mbackward\u001b[0m\u001b[0;34m(\u001b[0m\u001b[0;34m)\u001b[0m\u001b[0;34m\u001b[0m\u001b[0;34m\u001b[0m\u001b[0m\n\u001b[0m\u001b[1;32m     20\u001b[0m \u001b[0;34m\u001b[0m\u001b[0m\n\u001b[1;32m     21\u001b[0m \u001b[0;34m\u001b[0m\u001b[0m\n",
            "\u001b[0;32m/usr/local/lib/python3.7/dist-packages/torch/_tensor.py\u001b[0m in \u001b[0;36mbackward\u001b[0;34m(self, gradient, retain_graph, create_graph, inputs)\u001b[0m\n\u001b[1;32m    394\u001b[0m                 \u001b[0mcreate_graph\u001b[0m\u001b[0;34m=\u001b[0m\u001b[0mcreate_graph\u001b[0m\u001b[0;34m,\u001b[0m\u001b[0;34m\u001b[0m\u001b[0;34m\u001b[0m\u001b[0m\n\u001b[1;32m    395\u001b[0m                 inputs=inputs)\n\u001b[0;32m--> 396\u001b[0;31m         \u001b[0mtorch\u001b[0m\u001b[0;34m.\u001b[0m\u001b[0mautograd\u001b[0m\u001b[0;34m.\u001b[0m\u001b[0mbackward\u001b[0m\u001b[0;34m(\u001b[0m\u001b[0mself\u001b[0m\u001b[0;34m,\u001b[0m \u001b[0mgradient\u001b[0m\u001b[0;34m,\u001b[0m \u001b[0mretain_graph\u001b[0m\u001b[0;34m,\u001b[0m \u001b[0mcreate_graph\u001b[0m\u001b[0;34m,\u001b[0m \u001b[0minputs\u001b[0m\u001b[0;34m=\u001b[0m\u001b[0minputs\u001b[0m\u001b[0;34m)\u001b[0m\u001b[0;34m\u001b[0m\u001b[0;34m\u001b[0m\u001b[0m\n\u001b[0m\u001b[1;32m    397\u001b[0m \u001b[0;34m\u001b[0m\u001b[0m\n\u001b[1;32m    398\u001b[0m     \u001b[0;32mdef\u001b[0m \u001b[0mregister_hook\u001b[0m\u001b[0;34m(\u001b[0m\u001b[0mself\u001b[0m\u001b[0;34m,\u001b[0m \u001b[0mhook\u001b[0m\u001b[0;34m)\u001b[0m\u001b[0;34m:\u001b[0m\u001b[0;34m\u001b[0m\u001b[0;34m\u001b[0m\u001b[0m\n",
            "\u001b[0;32m/usr/local/lib/python3.7/dist-packages/torch/autograd/__init__.py\u001b[0m in \u001b[0;36mbackward\u001b[0;34m(tensors, grad_tensors, retain_graph, create_graph, grad_variables, inputs)\u001b[0m\n\u001b[1;32m    173\u001b[0m     Variable._execution_engine.run_backward(  # Calls into the C++ engine to run the backward pass\n\u001b[1;32m    174\u001b[0m         \u001b[0mtensors\u001b[0m\u001b[0;34m,\u001b[0m \u001b[0mgrad_tensors_\u001b[0m\u001b[0;34m,\u001b[0m \u001b[0mretain_graph\u001b[0m\u001b[0;34m,\u001b[0m \u001b[0mcreate_graph\u001b[0m\u001b[0;34m,\u001b[0m \u001b[0minputs\u001b[0m\u001b[0;34m,\u001b[0m\u001b[0;34m\u001b[0m\u001b[0;34m\u001b[0m\u001b[0m\n\u001b[0;32m--> 175\u001b[0;31m         allow_unreachable=True, accumulate_grad=True)  # Calls into the C++ engine to run the backward pass\n\u001b[0m\u001b[1;32m    176\u001b[0m \u001b[0;34m\u001b[0m\u001b[0m\n\u001b[1;32m    177\u001b[0m def grad(\n",
            "\u001b[0;31mKeyboardInterrupt\u001b[0m: "
          ]
        }
      ],
      "source": [
        "# Train Loop\n",
        "\n",
        "for epoch in range(1, EPOCHS + 1):\n",
        "    start_time = datetime.now()\n",
        "    train(model, device, train_loader, optimizer, epoch, stats) \n",
        "    test(model, device, test_loader, stats, SAVE_CHECKPOINTS)\n",
        "    print(f\"max acc = {stats.max_acc}\")\n",
        "    print(f\"epoch time = {datetime.now() - start_time} \\n\")\n",
        "    scheduler.step()\n"
      ]
    },
    {
      "cell_type": "markdown",
      "metadata": {
        "id": "r-JuIAep8uBp"
      },
      "source": [
        "## Visualize The Result"
      ]
    },
    {
      "cell_type": "code",
      "execution_count": null,
      "metadata": {
        "colab": {
          "base_uri": "https://localhost:8080/"
        },
        "id": "d78lLXsauZD0",
        "outputId": "cd219061-f938-4650-c360-b5d756d56e35"
      },
      "outputs": [
        {
          "data": {
            "text/plain": [
              "tensor([[11.2202,  0.1429,  0.0357,  2.6012],\n",
              "        [ 0.7857, 10.2500,  2.7857,  0.1786],\n",
              "        [ 1.3869,  1.5476, 10.8750,  0.1905],\n",
              "        [ 0.8274,  2.7976,  0.1250, 10.2500]], device='cuda:0')"
            ]
          },
          "execution_count": 21,
          "metadata": {},
          "output_type": "execute_result"
        }
      ],
      "source": [
        "# Average confusion matrix\n",
        "torch.mean(torch.stack(stats.confmatrices), 0, dtype=torch.float)"
      ]
    },
    {
      "cell_type": "code",
      "execution_count": null,
      "metadata": {
        "colab": {
          "base_uri": "https://localhost:8080/",
          "height": 404
        },
        "id": "gqgGRtapqENm",
        "outputId": "aefad6bb-ae2c-4270-9fdb-f9da32c063e6"
      },
      "outputs": [
        {
          "data": {
            "image/png": "[encoded data removed]",
            "text/plain": [
              "<Figure size 1296x432 with 2 Axes>"
            ]
          },
          "metadata": {},
          "output_type": "display_data"
        }
      ],
      "source": [
        "fig, (ax1, ax2) = plt.subplots(nrows=1, ncols=2, figsize=(18, 6))\n",
        "\n",
        "# Loss plot\n",
        "ax1.plot(stats.test_losses, label='Test')\n",
        "ax1.plot(stats.train_losses, label='Train')\n",
        "ax1.set(xlabel='Epoch', ylabel='Loss', title=f\"{model.name} Train / Test Loss\")\n",
        "ax1.legend()\n",
        "\n",
        "# Accuracy plot\n",
        "ax2.plot(stats.accuracies)\n",
        "ax2.set(xlabel='Epoch', ylabel='Accuracy %', title=f\"{model.name} Test Accuracy\")\n",
        "\n",
        "plt.show()"
      ]
    },
    {
      "cell_type": "markdown",
      "metadata": {
        "id": "P4e9Id0ZD1Ck"
      },
      "source": [
        "## Save"
      ]
    },
    {
      "cell_type": "code",
      "execution_count": null,
      "metadata": {
        "id": "Bl8NP_VKD0Qw"
      },
      "outputs": [],
      "source": [
        "torch.save(model.state_dict(), os.path.join(CHECKPOINTS_DIR, f\"model-cnn-{model.name}-{stats.max_acc:.0f}.pt\")) # max acc = 0.86"
      ]
    }
  ],
  "metadata": {
    "accelerator": "GPU",
    "colab": {
      "collapsed_sections": [
        "uJ1MEGYAa-vV",
        "E1KTVEbj2yrC",
        "siS1MfuTnQ1J",
        "J8AXTwsjvZOt",
        "1cAElRpW-k8t",
        "PVlWkTHl6k8N",
        "bd8sfEEcFVZh",
        "_Nxa6LgdGEKV",
        "MCpnsl3XG02O",
        "w0h6I7Z9H0aJ",
        "FYb2AmNIIReq",
        "OLyDEwApIvXF",
        "aBKv6_ZjJFgw",
        "2K7wwy8PJq76"
      ],
      "provenance": [],
      "toc_visible": true
    },
    "interpreter": {
      "hash": "7a6223111ee8629d60f3a8bae1f4aed65332e1c224efd50bf143332c5897bc26"
    },
    "kernelspec": {
      "display_name": "Python 3.8.10 ('venv': venv)",
      "language": "python",
      "name": "python3"
    },
    "language_info": {
      "codemirror_mode": {
        "name": "ipython",
        "version": 3
      },
      "file_extension": ".py",
      "mimetype": "text/x-python",
      "name": "python",
      "nbconvert_exporter": "python",
      "pygments_lexer": "ipython3",
      "version": "3.8.10"
    }
  },
  "nbformat": 4,
  "nbformat_minor": 0
}