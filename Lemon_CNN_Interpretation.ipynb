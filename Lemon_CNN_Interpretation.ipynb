{
  "cells": [
    {
      "cell_type": "code",
      "execution_count": 1,
      "metadata": {
        "colab": {
          "base_uri": "https://localhost:8080/"
        },
        "id": "gn5PKOPbu9QE",
        "outputId": "83646aa0-911e-44bf-af7f-f494a1eee4d1"
      },
      "outputs": [
        {
          "output_type": "stream",
          "name": "stdout",
          "text": [
            "Looking in indexes: https://pypi.org/simple, https://us-python.pkg.dev/colab-wheels/public/simple/\n",
            "Requirement already satisfied: torchmetrics in /usr/local/lib/python3.7/dist-packages (0.10.2)\n",
            "Requirement already satisfied: numpy>=1.17.2 in /usr/local/lib/python3.7/dist-packages (from torchmetrics) (1.21.6)\n",
            "Requirement already satisfied: typing-extensions in /usr/local/lib/python3.7/dist-packages (from torchmetrics) (4.1.1)\n",
            "Requirement already satisfied: torch>=1.3.1 in /usr/local/lib/python3.7/dist-packages (from torchmetrics) (1.12.1+cu113)\n",
            "Requirement already satisfied: packaging in /usr/local/lib/python3.7/dist-packages (from torchmetrics) (21.3)\n",
            "Requirement already satisfied: pyparsing!=3.0.5,>=2.0.2 in /usr/local/lib/python3.7/dist-packages (from packaging->torchmetrics) (3.0.9)\n",
            "Looking in indexes: https://pypi.org/simple, https://us-python.pkg.dev/colab-wheels/public/simple/\n",
            "Requirement already satisfied: captum in /usr/local/lib/python3.7/dist-packages (0.5.0)\n",
            "Requirement already satisfied: matplotlib in /usr/local/lib/python3.7/dist-packages (from captum) (3.2.2)\n",
            "Requirement already satisfied: torch>=1.6 in /usr/local/lib/python3.7/dist-packages (from captum) (1.12.1+cu113)\n",
            "Requirement already satisfied: numpy in /usr/local/lib/python3.7/dist-packages (from captum) (1.21.6)\n",
            "Requirement already satisfied: typing-extensions in /usr/local/lib/python3.7/dist-packages (from torch>=1.6->captum) (4.1.1)\n",
            "Requirement already satisfied: pyparsing!=2.0.4,!=2.1.2,!=2.1.6,>=2.0.1 in /usr/local/lib/python3.7/dist-packages (from matplotlib->captum) (3.0.9)\n",
            "Requirement already satisfied: cycler>=0.10 in /usr/local/lib/python3.7/dist-packages (from matplotlib->captum) (0.11.0)\n",
            "Requirement already satisfied: python-dateutil>=2.1 in /usr/local/lib/python3.7/dist-packages (from matplotlib->captum) (2.8.2)\n",
            "Requirement already satisfied: kiwisolver>=1.0.1 in /usr/local/lib/python3.7/dist-packages (from matplotlib->captum) (1.4.4)\n",
            "Requirement already satisfied: six>=1.5 in /usr/local/lib/python3.7/dist-packages (from python-dateutil>=2.1->matplotlib->captum) (1.15.0)\n",
            "Cloning into '3D-CNN-PyTorch'...\n",
            "remote: Enumerating objects: 81, done.\u001b[K\n",
            "remote: Counting objects: 100% (81/81), done.\u001b[K\n",
            "remote: Compressing objects: 100% (60/60), done.\u001b[K\n",
            "remote: Total 81 (delta 24), reused 77 (delta 20), pack-reused 0\u001b[K\n",
            "Unpacking objects: 100% (81/81), done.\n",
            "3D-CNN-PyTorch\tdrive  sample_data\n"
          ]
        }
      ],
      "source": [
        "!pip install torchmetrics\n",
        "!pip install captum\n",
        "!rm -rf ./3D-CNN-PyTorch/\n",
        "!git clone -b improve/add-test-notebook https://github.com/MohsenDehghankar/3D-CNN-PyTorch.git\n",
        "!ls"
      ]
    },
    {
      "cell_type": "code",
      "execution_count": 2,
      "metadata": {
        "id": "L0Z6uhcDvHvg"
      },
      "outputs": [],
      "source": [
        "import os\n",
        "import sys\n",
        "\n",
        "sys.path.insert(0, os.path.abspath('./3D-CNN-PyTorch')) # this allows local imports"
      ]
    },
    {
      "cell_type": "code",
      "execution_count": 3,
      "metadata": {
        "id": "_Vks2vXonH1s"
      },
      "outputs": [],
      "source": [
        "# Local imports\n",
        "from models import ResNetV2\n",
        "from models import resnet\n",
        "from models import DenseNet\n",
        "from models import ResNeXt\n",
        "from models import ResNeXtV2\n",
        "from models import PreActResNet\n",
        "from models import WideResNet\n",
        "from models import SqueezeNet\n",
        "from models import ShuffleNet\n",
        "from models import ShuffleNetV2\n",
        "from models import MobileNet\n",
        "from models import MobileNetV2\n",
        "from models.EfficientNet import EfficientNet3D"
      ]
    },
    {
      "cell_type": "code",
      "execution_count": 4,
      "metadata": {
        "colab": {
          "base_uri": "https://localhost:8080/"
        },
        "id": "NeCgT1PyR8T3",
        "outputId": "200bf636-b784-4bc4-c918-1b877e4efba1"
      },
      "outputs": [
        {
          "output_type": "stream",
          "name": "stdout",
          "text": [
            "1.12.1+cu113\n"
          ]
        }
      ],
      "source": [
        "# Package imports\n",
        "import torch\n",
        "import torch.nn as nn\n",
        "import torch.nn.functional as F\n",
        "import torch.optim as optim\n",
        "import re\n",
        "import matplotlib.pyplot as plt\n",
        "import os\n",
        "import pandas as pd\n",
        "from torchvision import transforms\n",
        "from torch.optim.lr_scheduler import *\n",
        "from torchvision.io import read_image\n",
        "from torch.utils.data import Dataset\n",
        "from sklearn.utils import shuffle\n",
        "from sklearn.model_selection import train_test_split\n",
        "from distutils.dir_util import copy_tree\n",
        "from datetime import datetime\n",
        "from torchsummary import summary\n",
        "from torchmetrics import ConfusionMatrix\n",
        "from sklearn.metrics import *\n",
        "import json\n",
        "from itertools import cycle\n",
        "import numpy as np\n",
        "import seaborn as sn\n",
        "from PIL import Image\n",
        "from matplotlib.colors import LinearSegmentedColormap\n",
        "import torchvision\n",
        "from torchvision import models\n",
        "\n",
        "# Interprete\n",
        "from captum.attr import IntegratedGradients\n",
        "from captum.attr import GradientShap\n",
        "from captum.attr import Occlusion\n",
        "from captum.attr import NoiseTunnel\n",
        "from captum.attr import visualization as viz\n",
        "\n",
        "print(torch.__version__) "
      ]
    },
    {
      "cell_type": "code",
      "execution_count": 5,
      "metadata": {
        "colab": {
          "base_uri": "https://localhost:8080/"
        },
        "id": "BveRFivbtDzT",
        "outputId": "3608bbbe-5fb4-452a-819a-f0ab1f65b65c"
      },
      "outputs": [
        {
          "output_type": "stream",
          "name": "stdout",
          "text": [
            "Mounted at /content/drive\n"
          ]
        }
      ],
      "source": [
        "from google.colab import drive\n",
        "drive.mount('/content/drive', force_remount=True)"
      ]
    },
    {
      "cell_type": "markdown",
      "metadata": {
        "id": "cglx7knb00-N"
      },
      "source": [
        "# Config"
      ]
    },
    {
      "cell_type": "code",
      "execution_count": 6,
      "metadata": {
        "id": "X2I9zT0EUz-0"
      },
      "outputs": [],
      "source": [
        "# Config\n",
        "\n",
        "# Metadata Configs\n",
        "DATA_DIR = \"/content/drive/MyDrive/lemon-crop\"\n",
        "VAL_DATA_DIR = \"/content/drive/MyDrive/lemon-crop/validation\"\n",
        "TRAIN_DATA_DIR = \"/content/drive/MyDrive/lemon-crop/train\"\n",
        "TEST_DATA_DIR = \"/content/drive/MyDrive/lemon-crop/test\"\n",
        "IMAGE_FILE_NAME_REGEX = \"(\\d+)\\w(\\d+).\\w+(result\\.jpg)\"\n",
        "PREPROCESS_INPUT_IMAGE_SIZE = (160, 120)\n",
        "TRAIN_TEST_COEF = 0.7\n",
        "\n",
        "# Main Configs\n",
        "LR = 0.1\n",
        "GAMMA = 0.95\n",
        "BATCH_SIZE = 4\n",
        "TEST_BATCH_SIZE = 4\n",
        "ITERS_TO_ACCUMULATE = 2 # if USE_AMP=True\n",
        "EPOCHS = 100\n",
        "TRAIN_INPUT_IMAGE_SIZE = (120, 120)\n",
        "NEEDS_RESIZE = False\n",
        "CLASS_NUM = 3\n",
        "\n",
        "# Augmentation\n",
        "TEST_SET_AUGMENTATION_COEF = 2\n",
        "\n",
        "# Save model\n",
        "SAVE_CHECKPOINTS = True\n",
        "CHECKPOINTS_DIR = \"/content/drive/MyDrive/lemon-crop/model_checkpoints\"\n",
        "MIN_ACC_TO_SAVE = 90\n",
        "\n",
        "# Other\n",
        "USE_CUDA = True\n",
        "DRY_RUN = False\n",
        "LOG_INTERVAL = 8 # should be multiply of ITERS_TO_ACCUMULATE\n",
        "USE_AMP = True ## Memory Boost ##\n",
        "ADD_CHANNEL_TO_INPUT = True # if true, adds a channel dimenstion to data in test() and train() [False for LSTM]"
      ]
    },
    {
      "cell_type": "markdown",
      "metadata": {
        "id": "n7NKb4oZYtGA"
      },
      "source": [
        "# Data Preparation\n"
      ]
    },
    {
      "cell_type": "markdown",
      "metadata": {
        "id": "1UZXHjc3soaG"
      },
      "source": [
        "## Load Metadata\n"
      ]
    },
    {
      "cell_type": "code",
      "execution_count": 7,
      "metadata": {
        "id": "lblIu4GPsoaG"
      },
      "outputs": [],
      "source": [
        "labels_map = {\n",
        "    0: \"Salem\",\n",
        "    1: \"Bruised-8\",\n",
        "    2: \"Bruised-24\",\n",
        "}\n",
        "metadata_dir = \"./drive/MyDrive/lemon-crop/metadata\"\n",
        "dir_map = {\n",
        "    0: \"salem\",\n",
        "    1: os.path.join(\"Bruised\", \"8\"),\n",
        "    2: os.path.join(\"Bruised\", \"24\"),\n",
        "}\n",
        "dir_map_secondary = {\n",
        "    0: \"salem\",\n",
        "    1: \"8\",\n",
        "    2: \"24\",\n",
        "}"
      ]
    },
    {
      "cell_type": "code",
      "execution_count": 8,
      "metadata": {
        "id": "7zcue59JsoaH",
        "colab": {
          "base_uri": "https://localhost:8080/"
        },
        "outputId": "7a4a30c4-8964-49e4-c5ed-6cae9a7a993b"
      },
      "outputs": [
        {
          "output_type": "stream",
          "name": "stdout",
          "text": [
            "145 42 28 208\n"
          ]
        }
      ],
      "source": [
        "# load metadata\n",
        "\n",
        "train_metadata = pd.read_csv(os.path.join(metadata_dir, \"train_metadata-2.csv\"), header=[0]).iloc[: , 1:]\n",
        "test_metadata = pd.read_csv(os.path.join(metadata_dir, \"test_metadata-2.csv\"), header=[0]).iloc[: , 1:]\n",
        "val_metadata = pd.read_csv(os.path.join(metadata_dir, \"val_metadata.csv\"), header=[0]).iloc[: , 1:]\n",
        "labels_metadata = pd.read_csv(os.path.join(metadata_dir, \"labels_metadata-2.csv\"), header=[0]).iloc[: , 1:]\n",
        "print(len(train_metadata), len(test_metadata), len(val_metadata), len(labels_metadata))"
      ]
    },
    {
      "cell_type": "markdown",
      "metadata": {
        "id": "-3cP8D3tbddp"
      },
      "source": [
        "## Define Dataset\n"
      ]
    },
    {
      "cell_type": "code",
      "execution_count": 9,
      "metadata": {
        "id": "jiPfU3HRbgm4"
      },
      "outputs": [],
      "source": [
        "# Create Dataset Class\n",
        "\n",
        "\n",
        "class LemonDataset(Dataset):\n",
        "    def __init__(\n",
        "        self,\n",
        "        annotations_file,\n",
        "        pure_img_dir,\n",
        "        processed_img_dir,\n",
        "        preprocess_transform=None,\n",
        "        target_transform=None,\n",
        "        preprocess=False,\n",
        "        transform=None\n",
        "    ):\n",
        "        self.img_labels = annotations_file\n",
        "        self.pure_img_dir = pure_img_dir\n",
        "        self.processed_img_dir = processed_img_dir\n",
        "        self.preprocess_transform = preprocess_transform\n",
        "        self.transform = transform\n",
        "        self.target_transform = target_transform\n",
        "        self.preprocess = preprocess\n",
        "\n",
        "    def __len__(self):\n",
        "        return len(self.img_labels)\n",
        "\n",
        "    def __getitem__(self, idx):\n",
        "        row = self.img_labels.iloc[idx]\n",
        "\n",
        "        # Get image\n",
        "        if self.preprocess:\n",
        "            image = self.preprocess_and_save(row)\n",
        "        else:\n",
        "            img_path = self.get_path(row, True)\n",
        "            image = torch.load(img_path)\n",
        "            if self.transform:\n",
        "                image = self.transform(image)\n",
        "\n",
        "        # Label\n",
        "        label = int(self.img_labels.iloc[idx, 1])\n",
        "        if self.target_transform:\n",
        "            label = self.target_transform(label)\n",
        "\n",
        "        return image, label\n",
        "\n",
        "    def preprocess_and_save(self, row):\n",
        "        img_path = self.get_path(row, False)\n",
        "\n",
        "        # Read and stack image layers\n",
        "        image_layers = []\n",
        "        for file in os.listdir(img_path):\n",
        "            match = re.search(IMAGE_FILE_NAME_REGEX, file)\n",
        "            if match:\n",
        "                image_layer = read_image(os.path.join(img_path, file))\n",
        "                # Transform\n",
        "                if self.preprocess_transform:\n",
        "                    image_layer = self.preprocess_transform(image_layer)\n",
        "                image_layers.append(image_layer[0])\n",
        "\n",
        "        # Stack\n",
        "        image = torch.stack(image_layers, dim=0)\n",
        "\n",
        "        # Save\n",
        "        torch.save(\n",
        "            image,\n",
        "            self.get_path(row, True),\n",
        "        )\n",
        "\n",
        "        return image\n",
        "\n",
        "    def get_path(self, row, preprocessed):\n",
        "        post_fix = \".pt\" if preprocessed else \"\"\n",
        "        return os.path.join(\n",
        "            self.processed_img_dir if preprocessed else self.pure_img_dir,\n",
        "            dir_map[int(row[-1])],\n",
        "            row[0] + post_fix,\n",
        "        )\n"
      ]
    },
    {
      "cell_type": "markdown",
      "metadata": {
        "id": "Y_jFsi3msoaM"
      },
      "source": [
        "## Transforms\n"
      ]
    },
    {
      "cell_type": "code",
      "execution_count": 10,
      "metadata": {
        "id": "sxIFvhfCsoaM"
      },
      "outputs": [],
      "source": [
        "preprocess_transform = transforms.Compose(\n",
        "    [\n",
        "        transforms.Resize(PREPROCESS_INPUT_IMAGE_SIZE),\n",
        "    ]\n",
        ")\n",
        "\n",
        "train_transforms = None\n",
        "test_transforms = None"
      ]
    },
    {
      "cell_type": "markdown",
      "metadata": {
        "id": "p5ViikNXsoaL"
      },
      "source": [
        "### Preprocess and Store data\n"
      ]
    },
    {
      "cell_type": "code",
      "execution_count": null,
      "metadata": {
        "colab": {
          "base_uri": "https://localhost:8080/",
          "height": 70
        },
        "id": "FP3hfMK_soaM",
        "outputId": "ea7b4809-4418-4e17-8562-0c59dc3203e5"
      },
      "outputs": [
        {
          "data": {
            "application/vnd.google.colaboratory.intrinsic+json": {
              "type": "string"
            },
            "text/plain": [
              "'preprocess_dataset = LemonDataset(\\n    annotations_file=labels_metadata,\\n    pure_img_dir=DATA_DIR,\\n    processed_img_dir=DATA_DIR,\\n    preprocess=True,\\n    preprocess_transform=preprocess_transform\\n)\\n\\nfor i in range(len(preprocess_dataset)):\\n    print(f\"preprocessing {i}...\")\\n    preprocess_dataset[i]\\n    print(f\"preprocessing of {i} finished\")'"
            ]
          },
          "execution_count": 11,
          "metadata": {},
          "output_type": "execute_result"
        }
      ],
      "source": [
        "# Run this only once to prepare .npy files\n",
        "\n",
        "'''preprocess_dataset = LemonDataset(\n",
        "    annotations_file=labels_metadata,\n",
        "    pure_img_dir=DATA_DIR,\n",
        "    processed_img_dir=DATA_DIR,\n",
        "    preprocess=True,\n",
        "    preprocess_transform=preprocess_transform\n",
        ")\n",
        "\n",
        "for i in range(len(preprocess_dataset)):\n",
        "    print(f\"preprocessing {i}...\")\n",
        "    preprocess_dataset[i]\n",
        "    print(f\"preprocessing of {i} finished\")'''\n",
        "\n"
      ]
    },
    {
      "cell_type": "markdown",
      "metadata": {
        "id": "pHUiDF1obZDo"
      },
      "source": [
        "## Dataloader\n"
      ]
    },
    {
      "cell_type": "code",
      "execution_count": 11,
      "metadata": {
        "id": "mt-iZXNtZEkr"
      },
      "outputs": [],
      "source": [
        "# Set kwargs\n",
        "\n",
        "train_kwargs = {\"batch_size\": BATCH_SIZE}\n",
        "test_kwargs = {\"batch_size\": TEST_BATCH_SIZE}\n",
        "if USE_CUDA:\n",
        "    cuda_kwargs = {\n",
        "        \"num_workers\": 2,\n",
        "        \"pin_memory\": True,\n",
        "        \"shuffle\": False,\n",
        "    }\n",
        "    train_kwargs.update(cuda_kwargs)\n",
        "    test_kwargs.update(cuda_kwargs)\n"
      ]
    },
    {
      "cell_type": "code",
      "execution_count": 12,
      "metadata": {
        "id": "vgq8CDbcTaEi"
      },
      "outputs": [],
      "source": [
        "# Dataloader\n",
        "\n",
        "train_dataset = LemonDataset(\n",
        "    annotations_file=train_metadata,\n",
        "    pure_img_dir=DATA_DIR,\n",
        "    processed_img_dir=DATA_DIR,\n",
        "    preprocess_transform=preprocess_transform,\n",
        "    transform=train_transforms # set this\n",
        ")\n",
        "\n",
        "test_dataset = LemonDataset(\n",
        "    annotations_file=test_metadata,\n",
        "    pure_img_dir=DATA_DIR,\n",
        "    processed_img_dir=DATA_DIR,\n",
        "    preprocess_transform=None,\n",
        "    transform=test_transforms\n",
        ")\n",
        "\n",
        "val_dataset = LemonDataset(\n",
        "    annotations_file=val_metadata,\n",
        "    pure_img_dir=DATA_DIR,\n",
        "    processed_img_dir=DATA_DIR,\n",
        "    preprocess_transform=None,\n",
        "    transform=None\n",
        ")\n",
        "\n",
        "train_loader = torch.utils.data.DataLoader(\n",
        "    train_dataset,\n",
        "    # drop_last=True,\n",
        "    **train_kwargs,\n",
        ")\n",
        "test_loader = torch.utils.data.DataLoader(\n",
        "    test_dataset,\n",
        "    # drop_last=True,\n",
        "    **test_kwargs,\n",
        ")\n",
        "val_loader = torch.utils.data.DataLoader(\n",
        "    val_dataset,\n",
        "    batch_size=TEST_BATCH_SIZE\n",
        ")\n"
      ]
    },
    {
      "cell_type": "markdown",
      "metadata": {
        "id": "FuxTlrU0uuR3"
      },
      "source": [
        "### Visualize Dataset"
      ]
    },
    {
      "cell_type": "code",
      "execution_count": 13,
      "metadata": {
        "colab": {
          "base_uri": "https://localhost:8080/"
        },
        "id": "DEeVDao0Frif",
        "outputId": "391e3bdb-e086-498b-a2f1-6c2bdc8878dd"
      },
      "outputs": [
        {
          "output_type": "execute_result",
          "data": {
            "text/plain": [
              "torch.Size([174, 160, 120])"
            ]
          },
          "metadata": {},
          "execution_count": 13
        }
      ],
      "source": [
        "test_dataset[0][0].shape"
      ]
    },
    {
      "cell_type": "code",
      "execution_count": 14,
      "metadata": {
        "colab": {
          "base_uri": "https://localhost:8080/",
          "height": 269
        },
        "id": "VRQCQlB8uvy4",
        "outputId": "b7926814-164f-48be-d3b6-b5f35a45b9db"
      },
      "outputs": [
        {
          "output_type": "display_data",
          "data": {
            "text/plain": [
              "<Figure size 432x288 with 1 Axes>"
            ],
            "image/png": "[encoded data removed]"
          },
          "metadata": {
            "needs_background": "light"
          }
        }
      ],
      "source": [
        "plt.imshow(test_dataset[0][0][0], cmap=\"gray\");"
      ]
    },
    {
      "cell_type": "markdown",
      "metadata": {
        "id": "My2vMJRtSHD8"
      },
      "source": [
        "# Models\n",
        "Only use one of them for each run."
      ]
    },
    {
      "cell_type": "markdown",
      "metadata": {
        "id": "uJ1MEGYAa-vV"
      },
      "source": [
        "## v1"
      ]
    },
    {
      "cell_type": "code",
      "execution_count": null,
      "metadata": {
        "id": "mD4fSMB9SIdd"
      },
      "outputs": [],
      "source": [
        "\n",
        "# Define Model Class\n",
        "\n",
        "\n",
        "class ModelV1(nn.Module):\n",
        "    def __init__(self):\n",
        "        super(ModelV1, self).__init__()\n",
        "        # (174, 160, 120)\n",
        "        self.conv1 = nn.Sequential(\n",
        "            nn.Conv3d(1, 64, kernel_size=(3, 3, 3)),\n",
        "            nn.ReLU(),\n",
        "            nn.MaxPool3d((2, 2, 2)),\n",
        "            nn.BatchNorm3d(64),\n",
        "        )\n",
        "\n",
        "        self.conv2 = nn.Sequential(\n",
        "            nn.Conv3d(64, 128, kernel_size=(3, 3, 3)),\n",
        "            nn.ReLU(),\n",
        "            nn.MaxPool3d((2, 2, 2)),\n",
        "            nn.BatchNorm3d(128),\n",
        "        )\n",
        "\n",
        "        self.conv3 = nn.Sequential(\n",
        "            nn.Conv3d(128, 128, kernel_size=(3, 3, 3)),\n",
        "            nn.ReLU(),\n",
        "            nn.MaxPool3d((2, 2, 2)),\n",
        "            nn.BatchNorm3d(128),\n",
        "        )\n",
        "\n",
        "        self.conv4 = nn.Sequential(\n",
        "            nn.Conv3d(128, 128, kernel_size=(3, 3, 3)),\n",
        "            nn.ReLU(),\n",
        "            nn.MaxPool3d((2, 2, 2)),\n",
        "            nn.BatchNorm3d(128),\n",
        "        )\n",
        "\n",
        "        self.linear = nn.Sequential(\n",
        "            nn.Linear(46080, 512),\n",
        "            nn.ReLU(),\n",
        "            nn.Dropout(0.3),\n",
        "            nn.Linear(512, 4)\n",
        "        )\n",
        "\n",
        "    def forward(self, x):\n",
        "        x = self.conv1(x)\n",
        "        x = self.conv2(x)\n",
        "        x = self.conv3(x)\n",
        "        x = self.conv4(x)\n",
        "        x = torch.flatten(x, 1)\n",
        "        x = self.linear(x)\n",
        "        return x\n",
        "\n",
        "model = ModelV1()\n",
        "model.name = \"ModelV1\""
      ]
    },
    {
      "cell_type": "markdown",
      "metadata": {
        "id": "E1KTVEbj2yrC"
      },
      "source": [
        "## v2"
      ]
    },
    {
      "cell_type": "code",
      "execution_count": null,
      "metadata": {
        "id": "YOLmRj0r20Fw"
      },
      "outputs": [],
      "source": [
        "\n",
        "# Define Model Class\n",
        "from torch import nn\n",
        "\n",
        "class ModelV2(nn.Module):\n",
        "    def __init__(self):\n",
        "        super(ModelV2, self).__init__()\n",
        "        # (174, 160, 120)\n",
        "        self.conv1 = nn.Sequential(\n",
        "            nn.Conv3d(1, 8, kernel_size=(3, 3, 3)),\n",
        "            nn.ReLU(),\n",
        "            nn.MaxPool3d((2, 2, 2)),\n",
        "            nn.BatchNorm3d(8),\n",
        "        )\n",
        "\n",
        "        self.conv2 = nn.Sequential(\n",
        "            nn.Conv3d(8, 8, kernel_size=(3, 3, 3)),\n",
        "            nn.ReLU(),\n",
        "            nn.MaxPool3d((2, 2, 2)),\n",
        "            nn.BatchNorm3d(8),\n",
        "        )\n",
        "\n",
        "        self.conv3 = nn.Sequential(\n",
        "            nn.Conv3d(8, 16, kernel_size=(3, 3, 3)),\n",
        "            nn.ReLU(),\n",
        "            nn.MaxPool3d((2, 2, 2)),\n",
        "            nn.BatchNorm3d(16),\n",
        "        )\n",
        "\n",
        "        self.conv4 = nn.Sequential(\n",
        "            nn.Conv3d(16, 16, kernel_size=(3, 3, 3)),\n",
        "            nn.ReLU(),\n",
        "            nn.MaxPool3d((2, 2, 2)),\n",
        "            nn.BatchNorm3d(16),\n",
        "        )\n",
        "\n",
        "        self.linear = nn.Sequential(\n",
        "            nn.Linear(5760, 512),\n",
        "            nn.ReLU(),\n",
        "            nn.Dropout(0.3),\n",
        "            nn.Linear(512, 4)\n",
        "        )\n",
        "\n",
        "    def forward(self, x):\n",
        "        x = self.conv1(x)\n",
        "        x = self.conv2(x)\n",
        "        x = self.conv3(x)\n",
        "        x = self.conv4(x)\n",
        "        x = torch.flatten(x, 1)\n",
        "        x = self.linear(x)\n",
        "        return x\n",
        "\n",
        "model = ModelV2()\n",
        "model.name = \"ModelV2\""
      ]
    },
    {
      "cell_type": "markdown",
      "metadata": {
        "id": "siS1MfuTnQ1J"
      },
      "source": [
        "## v3"
      ]
    },
    {
      "cell_type": "code",
      "execution_count": null,
      "metadata": {
        "id": "P6QbMhIgnSzo"
      },
      "outputs": [],
      "source": [
        "# Define Model Class\n",
        "from torch import nn\n",
        "\n",
        "class ModelV3(nn.Module):\n",
        "    def __init__(self):\n",
        "        super(ModelV3, self).__init__()\n",
        "        # (174, 160, 120)\n",
        "        self.conv1 = nn.Sequential(\n",
        "            nn.Conv3d(1, 64, kernel_size=(3, 3, 3)),\n",
        "            nn.ReLU(),\n",
        "            nn.MaxPool3d((2, 2, 2)),\n",
        "            nn.BatchNorm3d(64),\n",
        "        )\n",
        "\n",
        "        self.conv2 = nn.Sequential(\n",
        "            nn.Conv3d(64, 128, kernel_size=(3, 3, 3)),\n",
        "            nn.ReLU(),\n",
        "            nn.MaxPool3d((2, 2, 2)),\n",
        "            nn.BatchNorm3d(128),\n",
        "        )\n",
        "\n",
        "        self.conv3 = nn.Sequential(\n",
        "            nn.Conv3d(128, 256, kernel_size=(3, 3, 3)),\n",
        "            nn.ReLU(),\n",
        "            nn.MaxPool3d((2, 2, 2)),\n",
        "            nn.BatchNorm3d(256),\n",
        "        )\n",
        "\n",
        "        self.conv4 = nn.Sequential(\n",
        "            nn.Conv3d(256, 256, kernel_size=(3, 3, 3)),\n",
        "            nn.ReLU(),\n",
        "            nn.MaxPool3d((2, 2, 2)),\n",
        "            nn.BatchNorm3d(256),\n",
        "        )\n",
        "\n",
        "        self.linear = nn.Sequential(\n",
        "            nn.Linear(92160, 512),\n",
        "            nn.ReLU(),\n",
        "            nn.Dropout(0.3),\n",
        "            nn.Linear(512, 4)\n",
        "        )\n",
        "\n",
        "    def forward(self, x):\n",
        "        x = self.conv1(x)\n",
        "        x = self.conv2(x)\n",
        "        x = self.conv3(x)\n",
        "        x = self.conv4(x)\n",
        "        x = torch.flatten(x, 1)\n",
        "        x = self.linear(x)\n",
        "        return x\n",
        "\n",
        "model = ModelV3()\n",
        "model.name = \"ModelV3\""
      ]
    },
    {
      "cell_type": "markdown",
      "metadata": {
        "id": "J8AXTwsjvZOt"
      },
      "source": [
        "## Resnet"
      ]
    },
    {
      "cell_type": "code",
      "execution_count": null,
      "metadata": {
        "id": "UifNBN49va3Y"
      },
      "outputs": [],
      "source": [
        "model = resnet.generate_model(\n",
        "    model_depth=34, # [10, 18, 34, 50, 101, 152, 200]\n",
        "    n_input_channels=1,\n",
        "    n_classes=3\n",
        ")\n",
        "model.name = \"Resnet\""
      ]
    },
    {
      "cell_type": "markdown",
      "metadata": {
        "id": "E6tDKGEr0l6w"
      },
      "source": [
        "## ResnetV2"
      ]
    },
    {
      "cell_type": "code",
      "execution_count": 15,
      "metadata": {
        "id": "Q_LrB6Nl0nZY"
      },
      "outputs": [],
      "source": [
        "model = ResNetV2.generate_model(\n",
        "    model_depth=34, # [10, 18, 34, 50, 101, 152, 200]\n",
        "    n_input_channels=1,\n",
        "    n_classes=CLASS_NUM\n",
        ")\n",
        "model.name = \"ResnetV2-3-class\" "
      ]
    },
    {
      "cell_type": "markdown",
      "metadata": {
        "id": "1cAElRpW-k8t"
      },
      "source": [
        "## DenseNet"
      ]
    },
    {
      "cell_type": "code",
      "execution_count": null,
      "metadata": {
        "id": "v_LAxrfB-ko0",
        "colab": {
          "base_uri": "https://localhost:8080/"
        },
        "outputId": "3bd49ecd-3486-4859-e4e6-02089fd97318"
      },
      "outputs": [
        {
          "output_type": "stream",
          "name": "stderr",
          "text": [
            "/content/3D-CNN-PyTorch/models/DenseNet.py:134: UserWarning: nn.init.kaiming_normal is now deprecated in favor of nn.init.kaiming_normal_.\n",
            "  m.weight = nn.init.kaiming_normal(m.weight, mode='fan_out')\n"
          ]
        }
      ],
      "source": [
        "model = DenseNet.generate_model(\n",
        "    model_depth=121,\n",
        "    num_classes=3\n",
        ")\n",
        "model.name = \"DenseNet\""
      ]
    },
    {
      "cell_type": "markdown",
      "metadata": {
        "id": "PVlWkTHl6k8N"
      },
      "source": [
        "## ResNeXt"
      ]
    },
    {
      "cell_type": "code",
      "execution_count": null,
      "metadata": {
        "colab": {
          "base_uri": "https://localhost:8080/"
        },
        "id": "srvRVb716mlk",
        "outputId": "f1e1a306-cca4-44d2-bdcd-be5115f5bcfd"
      },
      "outputs": [
        {
          "name": "stderr",
          "output_type": "stream",
          "text": [
            "/content/3D-CNN-PyTorch/models/ResNeXt.py:130: UserWarning: nn.init.kaiming_normal is now deprecated in favor of nn.init.kaiming_normal_.\n",
            "  m.weight = nn.init.kaiming_normal(m.weight, mode='fan_out')\n"
          ]
        }
      ],
      "source": [
        "# Needs resize (174, 120, 120)\n",
        "model = ResNeXt.generate_model(\n",
        "    model_depth=50, # [50, 101, 152, 200]\n",
        "    n_classes=4,\n",
        "    in_channels=1,\n",
        "    sample_size=120,\n",
        "    sample_duration=174,\n",
        ")\n",
        "model.name = \"ResNetXt\""
      ]
    },
    {
      "cell_type": "markdown",
      "metadata": {
        "id": "bd8sfEEcFVZh"
      },
      "source": [
        "## PreActResNet"
      ]
    },
    {
      "cell_type": "code",
      "execution_count": null,
      "metadata": {
        "id": "b-CrN59gFWWu"
      },
      "outputs": [],
      "source": [
        "model = PreActResNet.generate_model(\n",
        "    model_depth=50, # [50, 101, 152, 200]\n",
        "    n_classes=3,\n",
        "    n_input_channels=1,\n",
        ")\n",
        "model.name = \"PreActResNet\""
      ]
    },
    {
      "cell_type": "markdown",
      "metadata": {
        "id": "_Nxa6LgdGEKV"
      },
      "source": [
        "## WideResNet"
      ]
    },
    {
      "cell_type": "code",
      "execution_count": null,
      "metadata": {
        "id": "v6irZwh4GFDy"
      },
      "outputs": [],
      "source": [
        "model = WideResNet.generate_model(\n",
        "    model_depth=152,\n",
        "    n_classes=3,\n",
        "    n_input_channels=1\n",
        ")\n",
        "model.name = \"WideResNet\""
      ]
    },
    {
      "cell_type": "markdown",
      "metadata": {
        "id": "MCpnsl3XG02O"
      },
      "source": [
        "## SqueezeNet"
      ]
    },
    {
      "cell_type": "code",
      "execution_count": null,
      "metadata": {
        "id": "FY0zTD8mG13G"
      },
      "outputs": [],
      "source": [
        "model = SqueezeNet.get_model(\n",
        "    version=1.0,\n",
        "    sample_size=120,\n",
        "    sample_duration=174,\n",
        "    num_classes=3,\n",
        "    in_channels=1,\n",
        ")\n",
        "model.name = \"SqueezeNet\""
      ]
    },
    {
      "cell_type": "markdown",
      "metadata": {
        "id": "w0h6I7Z9H0aJ"
      },
      "source": [
        "## ShuffleNet"
      ]
    },
    {
      "cell_type": "code",
      "execution_count": null,
      "metadata": {
        "id": "aejWeq5YH1tz"
      },
      "outputs": [],
      "source": [
        "# Needs resize = (160, 160, 120) (ignore now)\n",
        "model = ShuffleNet.get_model(\n",
        "    groups=3,\n",
        "    num_classes=4,\n",
        "    in_channels=1,\n",
        ")\n",
        "model.name = \"ShuffleNet\""
      ]
    },
    {
      "cell_type": "markdown",
      "metadata": {
        "id": "FYb2AmNIIReq"
      },
      "source": [
        "## ShuffleNetV2"
      ]
    },
    {
      "cell_type": "code",
      "execution_count": null,
      "metadata": {
        "id": "tS_wRGE1ITEV"
      },
      "outputs": [],
      "source": [
        "model = ShuffleNetV2.get_model(\n",
        "    sample_size=112,\n",
        "    num_classes=3,\n",
        "    width_mult=1.0,\n",
        "    in_channels=1,\n",
        ")\n",
        "model.name = \"ShuffleNetV2\""
      ]
    },
    {
      "cell_type": "markdown",
      "metadata": {
        "id": "OLyDEwApIvXF"
      },
      "source": [
        "## MobileNet"
      ]
    },
    {
      "cell_type": "code",
      "execution_count": null,
      "metadata": {
        "id": "tbzYZDz_Iw4O"
      },
      "outputs": [],
      "source": [
        "model = MobileNet.get_model(\n",
        "    sample_size=120,\n",
        "    num_classes=3,\n",
        "    in_channels=1,\n",
        ")\n",
        "model.name = \"MobileNet\""
      ]
    },
    {
      "cell_type": "markdown",
      "metadata": {
        "id": "aBKv6_ZjJFgw"
      },
      "source": [
        "## MobileNetV2"
      ]
    },
    {
      "cell_type": "code",
      "execution_count": null,
      "metadata": {
        "id": "9J8YvwS-JGx6"
      },
      "outputs": [],
      "source": [
        "model = MobileNetV2.get_model(\n",
        "    sample_size=112,\n",
        "    num_classes=3,\n",
        "    in_channels=1,\n",
        ")\n",
        "model.name = \"MobileNetV2\""
      ]
    },
    {
      "cell_type": "markdown",
      "metadata": {
        "id": "2K7wwy8PJq76"
      },
      "source": [
        "## EfficientNet3D"
      ]
    },
    {
      "cell_type": "code",
      "execution_count": null,
      "metadata": {
        "colab": {
          "base_uri": "https://localhost:8080/",
          "height": 87
        },
        "id": "nqr_acmdJrzg",
        "outputId": "e73eb160-1bed-4031-c7b2-c614b3090eb3"
      },
      "outputs": [
        {
          "data": {
            "application/vnd.google.colaboratory.intrinsic+json": {
              "type": "string"
            },
            "text/plain": [
              "\"\\n {\\n        # Coefficients:   width,depth,res,dropout\\n        'efficientnet-b0': (1.0, 1.0, 224, 0.2),\\n        'efficientnet-b1': (1.0, 1.1, 240, 0.2),\\n        'efficientnet-b2': (1.1, 1.2, 260, 0.3),\\n        'efficientnet-b3': (1.2, 1.4, 300, 0.3),\\n        'efficientnet-b4': (1.4, 1.8, 380, 0.4),\\n        'efficientnet-b5': (1.6, 2.2, 456, 0.4),\\n        'efficientnet-b6': (1.8, 2.6, 528, 0.5),\\n        'efficientnet-b7': (2.0, 3.1, 600, 0.5),\\n        'efficientnet-b8': (2.2, 3.6, 672, 0.5),\\n        'efficientnet-l2': (4.3, 5.3, 800, 0.5),\\n}\\n\""
            ]
          },
          "execution_count": 16,
          "metadata": {},
          "output_type": "execute_result"
        }
      ],
      "source": [
        "model = EfficientNet3D.from_name(\n",
        "    \"efficientnet-b4\",\n",
        "    override_params={\"num_classes\": 4},\n",
        "    in_channels=1,\n",
        ")\n",
        "model.name = \"EfficientNet3D\"\n",
        "\n",
        "'''\n",
        " {\n",
        "        # Coefficients:   width,depth,res,dropout\n",
        "        'efficientnet-b0': (1.0, 1.0, 224, 0.2),\n",
        "        'efficientnet-b1': (1.0, 1.1, 240, 0.2),\n",
        "        'efficientnet-b2': (1.1, 1.2, 260, 0.3),\n",
        "        'efficientnet-b3': (1.2, 1.4, 300, 0.3),\n",
        "        'efficientnet-b4': (1.4, 1.8, 380, 0.4),\n",
        "        'efficientnet-b5': (1.6, 2.2, 456, 0.4),\n",
        "        'efficientnet-b6': (1.8, 2.6, 528, 0.5),\n",
        "        'efficientnet-b7': (2.0, 3.1, 600, 0.5),\n",
        "        'efficientnet-b8': (2.2, 3.6, 672, 0.5),\n",
        "        'efficientnet-l2': (4.3, 5.3, 800, 0.5),\n",
        "}\n",
        "'''"
      ]
    },
    {
      "cell_type": "markdown",
      "metadata": {
        "id": "UbyJQFBHSiSh"
      },
      "source": [
        "## Ensemble"
      ]
    },
    {
      "cell_type": "code",
      "execution_count": null,
      "metadata": {
        "colab": {
          "base_uri": "https://localhost:8080/"
        },
        "id": "yaB2tx-JSj5I",
        "outputId": "2fca920b-2cac-46fc-e3ad-3629c8cb7869"
      },
      "outputs": [
        {
          "output_type": "stream",
          "name": "stderr",
          "text": [
            "/usr/local/lib/python3.7/dist-packages/ipykernel_launcher.py:38: UserWarning: nn.init.xavier_uniform is now deprecated in favor of nn.init.xavier_uniform_.\n"
          ]
        }
      ],
      "source": [
        "model1 = ResNetV2.generate_model(\n",
        "    model_depth=34, # [10, 18, 34, 50, 101, 152, 200]\n",
        "    n_input_channels=1,\n",
        "    n_classes=3\n",
        ")\n",
        "model1.name = \"ResnetV2-3-class\"\n",
        "model2 = ResNetV2.generate_model(\n",
        "    model_depth=34, # [10, 18, 34, 50, 101, 152, 200]\n",
        "    n_input_channels=1,\n",
        "    n_classes=3\n",
        ")\n",
        "model2.name = \"ResnetV2-3-class\"\n",
        "model3 = ResNetV2.generate_model(\n",
        "    model_depth=34, # [10, 18, 34, 50, 101, 152, 200]\n",
        "    n_input_channels=1,\n",
        "    n_classes=3\n",
        ")\n",
        "model3.name = \"ResnetV2-3-class\"\n",
        "\n",
        "class Ensemble(nn.Module):\n",
        "    def __init__(self, model1, model2, model3):\n",
        "        super(Ensemble, self).__init__()\n",
        "        self.model1 = model1\n",
        "        self.model2 = model2\n",
        "        self.model3 = model3\n",
        "        self.fc1 = nn.Linear(3, 3)\n",
        "\n",
        "    def forward(self, x):\n",
        "        outs = self.model1(x) + self.model2(x) + self.model3(x)\n",
        "        out = self.fc1(outs)\n",
        "        return out\n",
        "\n",
        "model = Ensemble(model1, model2, model3)\n",
        "model.name = \"Ensemble-ResnetV2-3-class\"\n",
        "\n",
        "def init_weights(m):\n",
        "    try:\n",
        "        torch.nn.init.xavier_uniform(m.weight)\n",
        "    except:\n",
        "        pass # ignore\n",
        "\n",
        "model = model.apply(init_weights)"
      ]
    },
    {
      "cell_type": "markdown",
      "metadata": {
        "id": "KXTPkQ_1SKPX"
      },
      "source": [
        "# Train & Test\n"
      ]
    },
    {
      "cell_type": "markdown",
      "metadata": {
        "id": "P4e9Id0ZD1Ck"
      },
      "source": [
        "## Load Model"
      ]
    },
    {
      "cell_type": "code",
      "execution_count": 16,
      "metadata": {
        "id": "Bl8NP_VKD0Qw",
        "colab": {
          "base_uri": "https://localhost:8080/"
        },
        "outputId": "65cd09f8-4135-436c-978d-a5bb519dc9c9"
      },
      "outputs": [
        {
          "output_type": "execute_result",
          "data": {
            "text/plain": [
              "<All keys matched successfully>"
            ]
          },
          "metadata": {},
          "execution_count": 16
        }
      ],
      "source": [
        "# Load model\n",
        "model.load_state_dict(torch.load(os.path.join(CHECKPOINTS_DIR, f\"model-cnn-ResnetV2-3-class-93.pt\")))"
      ]
    },
    {
      "cell_type": "code",
      "source": [
        "gpu = torch.device(\"cuda\")\n",
        "model = model.to(gpu)\n",
        "input = test_dataset[40][0].to(gpu)\n",
        "input = input[None,:][None,:].float()\n",
        "output = model(input)\n",
        "output = F.softmax(output, dim=1)\n",
        "prediction_score, pred_label_idx = torch.topk(output, 1)\n",
        "\n",
        "pred_label_idx.squeeze_()\n",
        "predicted_label = labels_map[pred_label_idx.item()]\n",
        "print('Predicted:', predicted_label, '(', prediction_score.squeeze().item(), ')')"
      ],
      "metadata": {
        "colab": {
          "base_uri": "https://localhost:8080/"
        },
        "id": "R8IbZj8HXeRj",
        "outputId": "ff98dd32-e3f2-48a1-ca14-4c670599e2d9"
      },
      "execution_count": 34,
      "outputs": [
        {
          "output_type": "stream",
          "name": "stdout",
          "text": [
            "Predicted: Bruised-24 ( 0.4187103807926178 )\n"
          ]
        }
      ]
    },
    {
      "cell_type": "code",
      "source": [
        "integrated_gradients = IntegratedGradients(model)\n",
        "attributions_ig = integrated_gradients.attribute(input, target=pred_label_idx, n_steps=200, internal_batch_size=4)"
      ],
      "metadata": {
        "id": "vKJOgYfqbhAI"
      },
      "execution_count": 36,
      "outputs": []
    },
    {
      "cell_type": "code",
      "source": [
        "default_cmap = LinearSegmentedColormap.from_list('custom blue', \n",
        "                                                 [(0, '#ffffff'),\n",
        "                                                  (0.25, '#000000'),\n",
        "                                                  (1, '#000000')], N=256)\n",
        "\n",
        "_ = viz.visualize_image_attr(np.transpose(attributions_ig.squeeze().cpu().detach().numpy(), (1,2,0)),\n",
        "                             np.transpose(input.squeeze().cpu().detach().numpy(), (1,2,0)),\n",
        "                             method='heat_map',\n",
        "                             cmap=default_cmap,\n",
        "                             show_colorbar=True,\n",
        "                             sign='positive',\n",
        "                             outlier_perc=1)"
      ],
      "metadata": {
        "colab": {
          "base_uri": "https://localhost:8080/",
          "height": 374
        },
        "id": "f92VKcCDrt-h",
        "outputId": "d95473ea-f955-4439-d412-a425fa3f89c4"
      },
      "execution_count": 37,
      "outputs": [
        {
          "output_type": "display_data",
          "data": {
            "text/plain": [
              "<Figure size 432x432 with 2 Axes>"
            ],
            "image/png": "[encoded data removed]"
          },
          "metadata": {
            "needs_background": "light"
          }
        }
      ]
    },
    {
      "cell_type": "code",
      "source": [
        "plt.imshow(test_dataset[40][0][170], cmap=\"gray\");"
      ],
      "metadata": {
        "colab": {
          "base_uri": "https://localhost:8080/",
          "height": 269
        },
        "id": "odXA87TAM4Js",
        "outputId": "16a27d18-d527-4f64-e611-af9dfd546fb6"
      },
      "execution_count": 38,
      "outputs": [
        {
          "output_type": "display_data",
          "data": {
            "text/plain": [
              "<Figure size 432x288 with 1 Axes>"
            ],
            "image/png": "[encoded data removed]"
          },
          "metadata": {
            "needs_background": "light"
          }
        }
      ]
    },
    {
      "cell_type": "code",
      "source": [
        "test_dataset[10][1]"
      ],
      "metadata": {
        "colab": {
          "base_uri": "https://localhost:8080/"
        },
        "id": "N6xnkNNpQGCt",
        "outputId": "17396d49-920b-4db0-9c2b-a9d08c7e844e"
      },
      "execution_count": 36,
      "outputs": [
        {
          "output_type": "execute_result",
          "data": {
            "text/plain": [
              "1"
            ]
          },
          "metadata": {},
          "execution_count": 36
        }
      ]
    }
  ],
  "metadata": {
    "accelerator": "GPU",
    "colab": {
      "collapsed_sections": [
        "uJ1MEGYAa-vV",
        "E1KTVEbj2yrC",
        "siS1MfuTnQ1J",
        "J8AXTwsjvZOt",
        "1cAElRpW-k8t",
        "PVlWkTHl6k8N",
        "bd8sfEEcFVZh",
        "_Nxa6LgdGEKV",
        "MCpnsl3XG02O",
        "w0h6I7Z9H0aJ",
        "FYb2AmNIIReq",
        "OLyDEwApIvXF",
        "aBKv6_ZjJFgw",
        "2K7wwy8PJq76"
      ],
      "provenance": [],
      "toc_visible": true
    },
    "interpreter": {
      "hash": "7a6223111ee8629d60f3a8bae1f4aed65332e1c224efd50bf143332c5897bc26"
    },
    "kernelspec": {
      "display_name": "Python 3.8.10 ('venv': venv)",
      "language": "python",
      "name": "python3"
    },
    "language_info": {
      "codemirror_mode": {
        "name": "ipython",
        "version": 3
      },
      "file_extension": ".py",
      "mimetype": "text/x-python",
      "name": "python",
      "nbconvert_exporter": "python",
      "pygments_lexer": "ipython3",
      "version": "3.8.10"
    }
  },
  "nbformat": 4,
  "nbformat_minor": 0
}